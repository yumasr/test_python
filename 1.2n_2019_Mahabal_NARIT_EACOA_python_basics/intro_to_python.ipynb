{
 "cells": [
  {
   "cell_type": "markdown",
   "metadata": {
    "slideshow": {
     "slide_type": "slide"
    }
   },
   "source": [
    "# Intro to Python\n",
    "<IMG SRC=\"media/PythonLogo.png\" Width=100>\n",
    "\n",
    "**Lecturer**: Ashish Mahabal<br>\n",
    "**Jupyter Notebook Author**: Leo Singer, Cameron Hummels, and Ashish Mahabal\n",
    "\n",
    "This is a Jupyter notebook lesson extending the GROWTH Summer School 2019 and adapted for the NARIT-EACOA 2019 summer workshop.\n",
    "\n",
    "## Objective\n",
    "Introduce the user to the history of Python, its basic usage, a few standard libraries, and some basic analysis of photometric data using astropy.\n",
    "\n",
    "## Key steps\n",
    "- Variable manipulation\n",
    "- Lists, arrays, floats, ints, sets, dictionaries\n",
    "- Conditionals, loops\n",
    "- Error handling\n",
    "- Intro to numpy\n",
    "- Intro to astropy\n",
    "\n",
    "## Required dependencies\n",
    "\n",
    "Nominally, you should be able to install the python modules with `pip install <module>`.  The external astromatic packages are easiest installed using package managers (e.g., `rpm`, `apt-get`).\n",
    "\n",
    "### Python modules\n",
    "* python 3\n",
    "* astropy\n",
    "* numpy\n",
    "* matplotlib\n",
    "\n",
    "### External packages\n",
    "None"
   ]
  },
  {
   "cell_type": "markdown",
   "metadata": {},
   "source": [
    "## 0. History\n",
    "\n",
    "Creator: Guido van Russum (1991, 2.0: 2000, 3.0: 2008)\n",
    "<IMG SRC=\"media/GuidoVanRussum.png\" WIDTH=300>\n",
    "* Influenced by the language ABC (where he worked in the 1980s)\n",
    "(Just like R came from S and indeed, C came from B)\n",
    "* Orthogonality built in\n",
    "* types: tuples, tables, lists, numbers, text\n",
    "* Fast text processing - uut had many problems initially\n",
    "* Originally developed for the Amoeba (OS) - one of Amoeba's aims was for multiple computers to look like a single coherent one.\n",
    "* Mostly igored until 2001 when in Python 2.2 user defined classes were introduced\n",
    "\n",
    "* Forced indentation, but not like Fortran (and better editors helped)\n",
    "* Great for (large) teams - compare perl\n",
    "\n",
    "* Issues: no declaration, scopes"
   ]
  },
  {
   "cell_type": "markdown",
   "metadata": {
    "slideshow": {
     "slide_type": "slide"
    }
   },
   "source": [
    "## I. Introduction\n",
    "\n",
    "This part of the workshop is about doing astronomical data analysis with the [Python programming language](https://python.org/). **No previous experience with Python is necessary!**\n",
    "\n",
    "Python is a powerful tool, but it comes into its own as a numerical and data analysis environment with the following packages, which you will definitely want to have:\n",
    "\n",
    "* **[Matplotlib](https://matplotlib.org)**: plotting interactive or publication-quality figures\n",
    "* **[Numpy](http://www.numpy.org)**: vectorized arithmetic and linear algebra\n",
    "* **[Scipy](https://www.scipy.org)**: curated collection of algorithms for root finding, interpolation, integration, signal processing, statistics, linear algebra, and much more\n",
    "* **[Jupyter Notebook](https://jupyter.org)** (formerly IPython Notebook): the Mathematica-like interface that you are using now (py in Jupyter stands for python), and last but not least\n",
    "* **[Astropy](https://www.astropy.org/)**: a community library for astronomy.\n",
    "\n",
    "We'll cover the basics of Python itself and then dive in to some applications to explore each of these packages."
   ]
  },
  {
   "cell_type": "markdown",
   "metadata": {
    "slideshow": {
     "slide_type": "slide"
    }
   },
   "source": [
    "**NOTE:** The purest way of interacting with Python is via its command line interpreter, which looks like this:\n",
    "\n",
    "![A session in the Python command line interpreter](https://raw.github.com/lpsinger/astropy-tutorial/master/terminal.png)"
   ]
  },
  {
   "cell_type": "markdown",
   "metadata": {
    "slideshow": {
     "slide_type": "slide"
    }
   },
   "source": [
    "A relatively new but very powerful way of using Python is through the Jupyter Notebook interface, which like Mathematica allows you to intermingle computer code with generated plots.  You're using one now."
   ]
  },
  {
   "cell_type": "markdown",
   "metadata": {},
   "source": [
    "#### The base has very little, so you start with importing this (but not that).\n",
    "Try it now to understand Python's philosophy (especially ## 2,7,15,16,19)."
   ]
  },
  {
   "cell_type": "code",
   "execution_count": 2,
   "metadata": {},
   "outputs": [
    {
     "name": "stdout",
     "output_type": "stream",
     "text": [
      "The Zen of Python, by Tim Peters\n",
      "\n",
      "Beautiful is better than ugly.\n",
      "Explicit is better than implicit.\n",
      "Simple is better than complex.\n",
      "Complex is better than complicated.\n",
      "Flat is better than nested.\n",
      "Sparse is better than dense.\n",
      "Readability counts.\n",
      "Special cases aren't special enough to break the rules.\n",
      "Although practicality beats purity.\n",
      "Errors should never pass silently.\n",
      "Unless explicitly silenced.\n",
      "In the face of ambiguity, refuse the temptation to guess.\n",
      "There should be one-- and preferably only one --obvious way to do it.\n",
      "Although that way may not be obvious at first unless you're Dutch.\n",
      "Now is better than never.\n",
      "Although never is often better than *right* now.\n",
      "If the implementation is hard to explain, it's a bad idea.\n",
      "If the implementation is easy to explain, it may be a good idea.\n",
      "Namespaces are one honking great idea -- let's do more of those!\n"
     ]
    }
   ],
   "source": [
    "import this"
   ]
  },
  {
   "cell_type": "markdown",
   "metadata": {},
   "source": [
    "To reload a module that has been changed (or not)"
   ]
  },
  {
   "cell_type": "code",
   "execution_count": 16,
   "metadata": {},
   "outputs": [
    {
     "name": "stdout",
     "output_type": "stream",
     "text": [
      "The Zen of Python, by Tim Peters\n",
      "\n",
      "Beautiful is better than ugly.\n",
      "Explicit is better than implicit.\n",
      "Simple is better than complex.\n",
      "Complex is better than complicated.\n",
      "Flat is better than nested.\n",
      "Sparse is better than dense.\n",
      "Readability counts.\n",
      "Special cases aren't special enough to break the rules.\n",
      "Although practicality beats purity.\n",
      "Errors should never pass silently.\n",
      "Unless explicitly silenced.\n",
      "In the face of ambiguity, refuse the temptation to guess.\n",
      "There should be one-- and preferably only one --obvious way to do it.\n",
      "Although that way may not be obvious at first unless you're Dutch.\n",
      "Now is better than never.\n",
      "Although never is often better than *right* now.\n",
      "If the implementation is hard to explain, it's a bad idea.\n",
      "If the implementation is easy to explain, it may be a good idea.\n",
      "Namespaces are one honking great idea -- let's do more of those!\n"
     ]
    },
    {
     "data": {
      "text/plain": [
       "<module 'this' from '/Users/aam/miniconda3/lib/python3.6/this.py'>"
      ]
     },
     "execution_count": 16,
     "metadata": {},
     "output_type": "execute_result"
    }
   ],
   "source": [
    "import importlib\n",
    "importlib.reload(this)"
   ]
  },
  {
   "cell_type": "markdown",
   "metadata": {},
   "source": [
    "<IMG SRC=\"media/TimPeters.png\" WIDTH=300>"
   ]
  },
  {
   "cell_type": "markdown",
   "metadata": {},
   "source": [
    "#### O-O from the start: everything is an object!"
   ]
  },
  {
   "cell_type": "code",
   "execution_count": 5,
   "metadata": {},
   "outputs": [
    {
     "data": {
      "text/plain": [
       "-0.9880316240928618"
      ]
     },
     "execution_count": 5,
     "metadata": {},
     "output_type": "execute_result"
    }
   ],
   "source": [
    "import math\n",
    "a = math.sin\n",
    "a(30)"
   ]
  },
  {
   "cell_type": "markdown",
   "metadata": {},
   "source": [
    "Use Shift-tab to explore help for the function arguments. Tabs are great!!!!"
   ]
  },
  {
   "cell_type": "code",
   "execution_count": 4,
   "metadata": {},
   "outputs": [
    {
     "ename": "TypeError",
     "evalue": "sin() takes exactly one argument (0 given)",
     "output_type": "error",
     "traceback": [
      "\u001b[0;31m---------------------------------------------------------------------------\u001b[0m",
      "\u001b[0;31mTypeError\u001b[0m                                 Traceback (most recent call last)",
      "\u001b[0;32m<ipython-input-4-8d7b4527e81d>\u001b[0m in \u001b[0;36m<module>\u001b[0;34m\u001b[0m\n\u001b[0;32m----> 1\u001b[0;31m \u001b[0ma\u001b[0m\u001b[0;34m(\u001b[0m\u001b[0;34m)\u001b[0m\u001b[0;34m\u001b[0m\u001b[0;34m\u001b[0m\u001b[0m\n\u001b[0m",
      "\u001b[0;31mTypeError\u001b[0m: sin() takes exactly one argument (0 given)"
     ]
    }
   ],
   "source": [
    "a()"
   ]
  },
  {
   "cell_type": "markdown",
   "metadata": {},
   "source": [
    "* Very fast growing community\n",
    "* Very large number of modules\n",
    "* numpy, scipy, astropy, wcs, pandas, tensorflow, keras, ...\n",
    "* Large dimensional arrays, images, stats, ML\n",
    "* Sky is the limit ..."
   ]
  },
  {
   "cell_type": "markdown",
   "metadata": {},
   "source": [
    "<IMG SRC=\"media/XKCD353PythonFlying.png\" WIDTH=500>"
   ]
  },
  {
   "cell_type": "markdown",
   "metadata": {},
   "source": [
    "#### On to flying (well, lets start with plotting)!"
   ]
  },
  {
   "cell_type": "code",
   "execution_count": 3,
   "metadata": {},
   "outputs": [
    {
     "data": {
      "application/vnd.jupyter.widget-view+json": {
       "model_id": "",
       "version_major": 2,
       "version_minor": 0
      },
      "text/plain": [
       "Canvas(toolbar=Toolbar(toolitems=[('Home', 'Reset original view', 'home', 'home'), ('Back', 'Back to previous …"
      ]
     },
     "metadata": {},
     "output_type": "display_data"
    },
    {
     "data": {
      "text/plain": [
       "Text(0, 0.5, 'cheeriness')"
      ]
     },
     "execution_count": 3,
     "metadata": {},
     "output_type": "execute_result"
    }
   ],
   "source": [
    "from matplotlib import pyplot as plt\n",
    "import numpy as np\n",
    "%matplotlib widget\n",
    "\n",
    "x = np.linspace(0, 2 * np.pi)\n",
    "plt.plot(x, np.sin(x))\n",
    "plt.xlabel('ppm caffeine in bloodstream')\n",
    "plt.ylabel('cheeriness')"
   ]
  },
  {
   "cell_type": "markdown",
   "metadata": {
    "slideshow": {
     "slide_type": "slide"
    }
   },
   "source": [
    "and tables..."
   ]
  },
  {
   "cell_type": "code",
   "execution_count": 6,
   "metadata": {},
   "outputs": [
    {
     "data": {
      "text/html": [
       "<i>Table length=5</i>\n",
       "<table id=\"table4714195728\" class=\"table-striped table-bordered table-condensed\">\n",
       "<thead><tr><th>integers</th><th>their squares</th></tr></thead>\n",
       "<thead><tr><th>int64</th><th>int64</th></tr></thead>\n",
       "<tr><td>0</td><td>0</td></tr>\n",
       "<tr><td>1</td><td>1</td></tr>\n",
       "<tr><td>2</td><td>4</td></tr>\n",
       "<tr><td>3</td><td>9</td></tr>\n",
       "<tr><td>4</td><td>16</td></tr>\n",
       "</table>"
      ],
      "text/plain": [
       "<Table length=5>\n",
       "integers their squares\n",
       " int64       int64    \n",
       "-------- -------------\n",
       "       0             0\n",
       "       1             1\n",
       "       2             4\n",
       "       3             9\n",
       "       4            16"
      ]
     },
     "execution_count": 6,
     "metadata": {},
     "output_type": "execute_result"
    }
   ],
   "source": [
    "import astropy.table\n",
    "tbl = astropy.table.Table()\n",
    "tbl.add_column(astropy.table.Column(data=np.arange(5),\n",
    "    name='integers'))\n",
    "tbl.add_column(astropy.table.Column(data=np.arange(5)**2,\n",
    "    name='their squares'))\n",
    "tbl"
   ]
  },
  {
   "cell_type": "markdown",
   "metadata": {
    "slideshow": {
     "slide_type": "slide"
    }
   },
   "source": [
    "and even notes and typeset mathematics...\n",
    "\n",
    "> *And God said:*\n",
    ">\n",
    "> > $$\\nabla \\cdot \\mathbf{D} = \\rho$$\n",
    "> > $$\\nabla \\cdot \\mathbf{B} = 0$$\n",
    "> > $$\\nabla \\times \\mathbf{E} = -\\frac{\\partial\\mathbf{B}}{\\partial t}$$\n",
    "> > $$\\nabla \\times \\mathbf{H} = J + \\frac{\\partial\\mathbf{D}}{\\partial t}$$\n",
    ">\n",
    "> *and there was light.*\n",
    "\n",
    "This is all very useful for doing interactive data analysis, so we will use the IPython Notebook interface for this tutorial. **WARNING:** I'm spoiling you rotten by doing this."
   ]
  },
  {
   "cell_type": "markdown",
   "metadata": {
    "slideshow": {
     "slide_type": "slide"
    }
   },
   "source": [
    "## II. How to get Python/Matplotlib/Numpy/Scipy/Astropy (if necessary)\n",
    "\n",
    "Python and all of the packages that we discuss in this tutorial are open source software, so there multiple options for installing them.  <b>But if you followed the instructions on the GROWTH website for downloading/installing these modules, you have already installed these dependencies.  Skip to the next step.</b>"
   ]
  },
  {
   "cell_type": "markdown",
   "metadata": {
    "slideshow": {
     "slide_type": "subslide"
    }
   },
   "source": [
    "### For Linux/UNIX users\n",
    "\n",
    "If you have one of the common Linux/UNIX distros (for example, [Ubuntu](https://www.ubuntu.com), [Debian](https://debian.org), or [Fedora](https://fedoraproject.org)), then you probably already have Python and you can get Matplotlib and friends from your package manager.\n",
    "\n",
    "For example, on Debian or Ubuntu, use:\n",
    "\n",
    "    $ sudo apt-get install jupyter-notebook python3-matplotlib python3-astropy python3-scipy"
   ]
  },
  {
   "cell_type": "markdown",
   "metadata": {
    "slideshow": {
     "slide_type": "subslide"
    }
   },
   "source": [
    "### For Mac users\n",
    "\n",
    "Every version of Mac OS comes with a Python interpreter, but it's slightly easier to obtain Matplotlib and Numpy if you use a package manager such as [MacPorts](https://macports.org), [HomeBrew](https://brew.sh), or [Fink](http://www.finkproject.org). I use MacPorts (and contribute to it, too), so that's what I suggest. Install MacPorts and then do:\n",
    "\n",
    "    $ sudo port install py37-matplotlib py37-scipy py37-jupyterlab py37-astropy"
   ]
  },
  {
   "cell_type": "markdown",
   "metadata": {
    "slideshow": {
     "slide_type": "subslide"
    }
   },
   "source": [
    "### For Windows users\n",
    "\n",
    "Windows does not come with Python, but popular and free builds of Python for Windows include [Anaconda](https://www.anaconda.com/distribution/) and [Canopy](https://www.enthought.com/product/canopy/). Another alternative for Windows is to set up a virtual machine with [VirtualBox](https://www.virtualbox.org) and then install a Linux distribution on that."
   ]
  },
  {
   "cell_type": "markdown",
   "metadata": {
    "slideshow": {
     "slide_type": "slide"
    }
   },
   "source": [
    "## III. Python basics"
   ]
  },
  {
   "cell_type": "markdown",
   "metadata": {},
   "source": [
    "### The `print()` function and string literals"
   ]
  },
  {
   "cell_type": "markdown",
   "metadata": {},
   "source": [
    "If this is your first time looking at Python code, the first thing that you might notice is that it is very easy to understand. For example, to print something to the screen, it's just:"
   ]
  },
  {
   "cell_type": "code",
   "execution_count": 22,
   "metadata": {},
   "outputs": [
    {
     "name": "stdout",
     "output_type": "stream",
     "text": [
      "Hello world!\n"
     ]
    }
   ],
   "source": [
    "print('Hello world!')"
   ]
  },
  {
   "cell_type": "markdown",
   "metadata": {},
   "source": [
    "This is a Python statement, consisting of the built-in command `print` and a string surrounded by single quotes. Double quotes are fine inside a string:"
   ]
  },
  {
   "cell_type": "code",
   "execution_count": 23,
   "metadata": {},
   "outputs": [
    {
     "name": "stdout",
     "output_type": "stream",
     "text": [
      "She said, \"Hello, world!\"\n"
     ]
    }
   ],
   "source": [
    "print('She said, \"Hello, world!\"')"
   ]
  },
  {
   "cell_type": "markdown",
   "metadata": {},
   "source": [
    "But if you want single quotes inside your string, you had better delimit it with double quotes:"
   ]
  },
  {
   "cell_type": "code",
   "execution_count": 24,
   "metadata": {},
   "outputs": [
    {
     "name": "stdout",
     "output_type": "stream",
     "text": [
      "She said, 'Hello, world!'\n"
     ]
    }
   ],
   "source": [
    "print(\"She said, 'Hello, world!'\")"
   ]
  },
  {
   "cell_type": "markdown",
   "metadata": {},
   "source": [
    "If you need both single quotes and double quotes, you can use backslashes to escape characters."
   ]
  },
  {
   "cell_type": "code",
   "execution_count": 25,
   "metadata": {},
   "outputs": [
    {
     "name": "stdout",
     "output_type": "stream",
     "text": [
      "She said, \"O brave new world, that has such people in't!\"\n"
     ]
    }
   ],
   "source": [
    "print('She said, \"O brave new world, that has such people in\\'t!\"')"
   ]
  },
  {
   "cell_type": "markdown",
   "metadata": {},
   "source": [
    "If you need a string that contains newlines, use triple quotes (`'''`) or triple double quotes (`\"\"\"`):"
   ]
  },
  {
   "cell_type": "code",
   "execution_count": 7,
   "metadata": {},
   "outputs": [
    {
     "name": "stdout",
     "output_type": "stream",
     "text": [
      "MIRANDA\n",
      "  O, wonder!\n",
      "  How many goodly creatures are there here!\n",
      "  How beauteous mankind is! O brave new world\n",
      "  That has such people in't!\n"
     ]
    }
   ],
   "source": [
    "print(\"\"\"MIRANDA\n",
    "  O, wonder!\n",
    "  How many goodly creatures are there here!\n",
    "  How beauteous mankind is! O brave new world\n",
    "  That has such people in't!\"\"\")"
   ]
  },
  {
   "cell_type": "markdown",
   "metadata": {},
   "source": [
    "Let's say that you need to print a few different things on the same line. Just separate them with commas, as in:"
   ]
  },
  {
   "cell_type": "code",
   "execution_count": 8,
   "metadata": {},
   "outputs": [
    {
     "name": "stdout",
     "output_type": "stream",
     "text": [
      "'Tis new to Miranda\n"
     ]
    }
   ],
   "source": [
    "person = 'Miranda'\n",
    "print(\"'Tis new to\", person)"
   ]
  },
  {
   "cell_type": "markdown",
   "metadata": {},
   "source": [
    "Oops. I'm getting ahead of myself—you've now seen your first variable assignment in Python. Strings can be concatened by adding them:"
   ]
  },
  {
   "cell_type": "code",
   "execution_count": 9,
   "metadata": {},
   "outputs": [
    {
     "data": {
      "text/plain": [
       "'abcdef'"
      ]
     },
     "execution_count": 9,
     "metadata": {},
     "output_type": "execute_result"
    }
   ],
   "source": [
    "'abc' + 'def'"
   ]
  },
  {
   "cell_type": "markdown",
   "metadata": {},
   "source": [
    "Or repeated by multiplying them:"
   ]
  },
  {
   "cell_type": "code",
   "execution_count": 10,
   "metadata": {},
   "outputs": [
    {
     "data": {
      "text/plain": [
       "'abcdefabcdef'"
      ]
     },
     "execution_count": 10,
     "metadata": {},
     "output_type": "execute_result"
    }
   ],
   "source": [
    "'abcdef' * 2"
   ]
  },
  {
   "cell_type": "markdown",
   "metadata": {},
   "source": [
    "### Numeric and boolean literals"
   ]
  },
  {
   "cell_type": "markdown",
   "metadata": {},
   "source": [
    "Python's numeric types include integers and both real and complex floating point numbers:"
   ]
  },
  {
   "cell_type": "code",
   "execution_count": 11,
   "metadata": {},
   "outputs": [],
   "source": [
    "a = 30 # an integer\n",
    "b = 0xDEADBEEF # an integer in hexadecimal\n",
    "c = 3.14159 # a floating point number\n",
    "d = 5.1e10 # scientific notation\n",
    "e = 2.5 + 5.3j # a complex number\n",
    "hungry = True # boolean literal\n",
    "need_coffee = False # another boolean literal"
   ]
  },
  {
   "cell_type": "markdown",
   "metadata": {},
   "source": [
    "By the way, all of the text on a given line after the trailing hash sign (`#`) is a comment, ignored by Python.\n",
    "\n",
    "The arithmetic operators in Python are similar to C, C++, Java, and so on. There is addition (and subtraction):"
   ]
  },
  {
   "cell_type": "code",
   "execution_count": 12,
   "metadata": {},
   "outputs": [
    {
     "data": {
      "text/plain": [
       "33.14159"
      ]
     },
     "execution_count": 12,
     "metadata": {},
     "output_type": "execute_result"
    }
   ],
   "source": [
    "a + c"
   ]
  },
  {
   "cell_type": "markdown",
   "metadata": {},
   "source": [
    "Multiplication:"
   ]
  },
  {
   "cell_type": "code",
   "execution_count": 13,
   "metadata": {},
   "outputs": [
    {
     "data": {
      "text/plain": [
       "(75+159j)"
      ]
     },
     "execution_count": 13,
     "metadata": {},
     "output_type": "execute_result"
    }
   ],
   "source": [
    "a * e"
   ]
  },
  {
   "cell_type": "markdown",
   "metadata": {},
   "source": [
    "Division:"
   ]
  },
  {
   "cell_type": "code",
   "execution_count": 33,
   "metadata": {},
   "outputs": [
    {
     "data": {
      "text/plain": [
       "9.549304651466295"
      ]
     },
     "execution_count": 33,
     "metadata": {},
     "output_type": "execute_result"
    }
   ],
   "source": [
    "a / c"
   ]
  },
  {
   "cell_type": "markdown",
   "metadata": {},
   "source": [
    "***Important note***: unlike C, C++, Java, etc., ***division of integers gives you floats***:"
   ]
  },
  {
   "cell_type": "code",
   "execution_count": 34,
   "metadata": {},
   "outputs": [
    {
     "data": {
      "text/plain": [
       "2.3333333333333335"
      ]
     },
     "execution_count": 34,
     "metadata": {},
     "output_type": "execute_result"
    }
   ],
   "source": [
    "7 / 3"
   ]
  },
  {
   "cell_type": "markdown",
   "metadata": {},
   "source": [
    "If you want integer division, then use the double-slash `//` operator:"
   ]
  },
  {
   "cell_type": "code",
   "execution_count": 35,
   "metadata": {},
   "outputs": [
    {
     "data": {
      "text/plain": [
       "2"
      ]
     },
     "execution_count": 35,
     "metadata": {},
     "output_type": "execute_result"
    }
   ],
   "source": [
    "a = 7\n",
    "b = 3\n",
    "7 // 3"
   ]
  },
  {
   "cell_type": "markdown",
   "metadata": {},
   "source": [
    "The `%` sign is the remainder operator:"
   ]
  },
  {
   "cell_type": "code",
   "execution_count": 36,
   "metadata": {},
   "outputs": [
    {
     "data": {
      "text/plain": [
       "6"
      ]
     },
     "execution_count": 36,
     "metadata": {},
     "output_type": "execute_result"
    }
   ],
   "source": [
    "32 % 26"
   ]
  },
  {
   "cell_type": "markdown",
   "metadata": {},
   "source": [
    "Exponentiation is accomplished with the `**` operator:"
   ]
  },
  {
   "cell_type": "code",
   "execution_count": 37,
   "metadata": {},
   "outputs": [
    {
     "name": "stdout",
     "output_type": "stream",
     "text": [
      "125 0.3333333333333333\n"
     ]
    }
   ],
   "source": [
    "print(5 ** 3, 9**-0.5)"
   ]
  },
  {
   "cell_type": "markdown",
   "metadata": {},
   "source": [
    "### Tuples"
   ]
  },
  {
   "cell_type": "markdown",
   "metadata": {},
   "source": [
    "A tuple is a sequence of values. It's just about the handiest thing since integers. A tuple is immutable: once you have created it, you cannot add items to it, remove items from it, or change items. Tuples are very handy for storing short sequences of related values or returning multiple values from a function. This is what tuples look like:"
   ]
  },
  {
   "cell_type": "code",
   "execution_count": 14,
   "metadata": {},
   "outputs": [],
   "source": [
    "some_tuple = ('a', 'b', 'c')\n",
    "another_tuple = ('caffeine', 6.674e-11, 3.14, 2.718)\n",
    "nested_tuple = (5, 4, 3, 2, ('a', 'b'), 'c')"
   ]
  },
  {
   "cell_type": "markdown",
   "metadata": {},
   "source": [
    "Once you have made a tuple, you might want to retrieve a value from it. You index a tuple with square brackets, ***starting from zero***:"
   ]
  },
  {
   "cell_type": "code",
   "execution_count": 15,
   "metadata": {},
   "outputs": [
    {
     "data": {
      "text/plain": [
       "'a'"
      ]
     },
     "execution_count": 15,
     "metadata": {},
     "output_type": "execute_result"
    }
   ],
   "source": [
    "some_tuple[0]"
   ]
  },
  {
   "cell_type": "code",
   "execution_count": 40,
   "metadata": {},
   "outputs": [
    {
     "data": {
      "text/plain": [
       "'b'"
      ]
     },
     "execution_count": 40,
     "metadata": {},
     "output_type": "execute_result"
    }
   ],
   "source": [
    "some_tuple[1]"
   ]
  },
  {
   "cell_type": "markdown",
   "metadata": {},
   "source": [
    "You can access whole ranges of values using ***slice notation***:"
   ]
  },
  {
   "cell_type": "code",
   "execution_count": 41,
   "metadata": {},
   "outputs": [
    {
     "data": {
      "text/plain": [
       "(4, 3, 2)"
      ]
     },
     "execution_count": 41,
     "metadata": {},
     "output_type": "execute_result"
    }
   ],
   "source": [
    "nested_tuple[1:4]"
   ]
  },
  {
   "cell_type": "markdown",
   "metadata": {},
   "source": [
    "Or, to count backward from the end of the tuple, use a ***negative index***:\n",
    "\n",
    "The Last one!\n"
   ]
  },
  {
   "cell_type": "code",
   "execution_count": 16,
   "metadata": {},
   "outputs": [
    {
     "data": {
      "text/plain": [
       "2.718"
      ]
     },
     "execution_count": 16,
     "metadata": {},
     "output_type": "execute_result"
    }
   ],
   "source": [
    "another_tuple[-1]"
   ]
  },
  {
   "cell_type": "code",
   "execution_count": 17,
   "metadata": {},
   "outputs": [
    {
     "data": {
      "text/plain": [
       "3.14"
      ]
     },
     "execution_count": 17,
     "metadata": {},
     "output_type": "execute_result"
    }
   ],
   "source": [
    "another_tuple[-2]"
   ]
  },
  {
   "cell_type": "markdown",
   "metadata": {},
   "source": [
    "Strings can be treated just like tuples of individual charaters:"
   ]
  },
  {
   "cell_type": "code",
   "execution_count": 18,
   "metadata": {},
   "outputs": [
    {
     "name": "stdout",
     "output_type": "stream",
     "text": [
      "and\n"
     ]
    }
   ],
   "source": [
    "person = 'Miranda'\n",
    "print(person[3:6])"
   ]
  },
  {
   "cell_type": "markdown",
   "metadata": {},
   "source": [
    "### Lists"
   ]
  },
  {
   "cell_type": "markdown",
   "metadata": {},
   "source": [
    "What if you want a container like a tuple but to which you can add or remove items or alter existing items? That's a list. The syntax is almost the same, except that you create a list using square brackets `[]` instead of round ones `()`:"
   ]
  },
  {
   "cell_type": "code",
   "execution_count": 19,
   "metadata": {},
   "outputs": [],
   "source": [
    "your_list = ['foo', 'bar', 'bat', 'baz']\n",
    "my_list = ['xyzzy', 1, 3, 5, 7]"
   ]
  },
  {
   "cell_type": "markdown",
   "metadata": {},
   "source": [
    "But you can change elements:"
   ]
  },
  {
   "cell_type": "code",
   "execution_count": 20,
   "metadata": {},
   "outputs": [
    {
     "name": "stdout",
     "output_type": "stream",
     "text": [
      "['xyzzy', 2, 3, 5, 7]\n"
     ]
    }
   ],
   "source": [
    "my_list[1] = 2\n",
    "print(my_list)"
   ]
  },
  {
   "cell_type": "markdown",
   "metadata": {},
   "source": [
    "Or append elements to an existing list:"
   ]
  },
  {
   "cell_type": "code",
   "execution_count": 21,
   "metadata": {},
   "outputs": [
    {
     "name": "stdout",
     "output_type": "stream",
     "text": [
      "['xyzzy', 2, 3, 5, 7, 11]\n"
     ]
    }
   ],
   "source": [
    "my_list.append(11)\n",
    "print(my_list)"
   ]
  },
  {
   "cell_type": "markdown",
   "metadata": {},
   "source": [
    "Or delete elements:"
   ]
  },
  {
   "cell_type": "code",
   "execution_count": 29,
   "metadata": {},
   "outputs": [
    {
     "name": "stdout",
     "output_type": "stream",
     "text": [
      "[2, 3, 5, 7, 11]\n"
     ]
    }
   ],
   "source": [
    "del my_list[0]\n",
    "print(my_list)"
   ]
  },
  {
   "cell_type": "markdown",
   "metadata": {},
   "source": [
    "### Sets"
   ]
  },
  {
   "cell_type": "markdown",
   "metadata": {},
   "source": [
    "Sometimes you need a collection of items where order doesn't necessarily matter, but each item is guaranteed to be unique. That's a set, created just like a list or tuple but with curly braces `{}`:"
   ]
  },
  {
   "cell_type": "code",
   "execution_count": 22,
   "metadata": {},
   "outputs": [
    {
     "name": "stdout",
     "output_type": "stream",
     "text": [
      "{5, 6, 7, 8, 'foo'}\n"
     ]
    }
   ],
   "source": [
    "a = {5, 6, 'foo', 7, 7, 8}\n",
    "print(a)"
   ]
  },
  {
   "cell_type": "markdown",
   "metadata": {},
   "source": [
    "You can add items to a set:"
   ]
  },
  {
   "cell_type": "code",
   "execution_count": 23,
   "metadata": {},
   "outputs": [
    {
     "name": "stdout",
     "output_type": "stream",
     "text": [
      "{3, 5, 6, 7, 8, 'foo'}\n"
     ]
    }
   ],
   "source": [
    "a.add(3)\n",
    "print(a)"
   ]
  },
  {
   "cell_type": "markdown",
   "metadata": {},
   "source": [
    "Or take them away:"
   ]
  },
  {
   "cell_type": "code",
   "execution_count": 32,
   "metadata": {},
   "outputs": [
    {
     "name": "stdout",
     "output_type": "stream",
     "text": [
      "{5, 6, 7, 8, 'foo'}\n"
     ]
    }
   ],
   "source": [
    "a.remove(3)\n",
    "print(a)"
   ]
  },
  {
   "cell_type": "markdown",
   "metadata": {},
   "source": [
    "You also have set-theoretic intersections with the `&` operator:"
   ]
  },
  {
   "cell_type": "code",
   "execution_count": 24,
   "metadata": {},
   "outputs": [
    {
     "data": {
      "text/plain": [
       "{3, 4}"
      ]
     },
     "execution_count": 24,
     "metadata": {},
     "output_type": "execute_result"
    }
   ],
   "source": [
    "{1, 2, 3, 4, 5, 6} & {3, 4}"
   ]
  },
  {
   "cell_type": "markdown",
   "metadata": {},
   "source": [
    "And union with the `|` operator:"
   ]
  },
  {
   "cell_type": "code",
   "execution_count": 25,
   "metadata": {},
   "outputs": [
    {
     "data": {
      "text/plain": [
       "{1, 2, 3, 4, 5, 6, 7}"
      ]
     },
     "execution_count": 25,
     "metadata": {},
     "output_type": "execute_result"
    }
   ],
   "source": [
    "{1, 2, 3, 4, 5, 6} | {6, 7}"
   ]
  },
  {
   "cell_type": "markdown",
   "metadata": {},
   "source": [
    "And set difference with the `-` operator:"
   ]
  },
  {
   "cell_type": "code",
   "execution_count": 26,
   "metadata": {},
   "outputs": [
    {
     "data": {
      "text/plain": [
       "{1, 2, 5, 6}"
      ]
     },
     "execution_count": 26,
     "metadata": {},
     "output_type": "execute_result"
    }
   ],
   "source": [
    "{1, 2, 3, 4, 5, 6} - {3, 4}"
   ]
  },
  {
   "cell_type": "markdown",
   "metadata": {},
   "source": [
    "### Dictionaries"
   ]
  },
  {
   "cell_type": "markdown",
   "metadata": {},
   "source": [
    "Sometimes, you want a collection that is like a list, but whose indices are strings or other Python values. That's a dictionary. Dictionaries are handy for any type of database-like operation, or for storing mappings from one set of values to another. You create a dictionary by enclosing a list of key-value pairs in curly braces:"
   ]
  },
  {
   "cell_type": "code",
   "execution_count": 27,
   "metadata": {},
   "outputs": [
    {
     "data": {
      "text/plain": [
       "{'name': 'GRB 130702A',\n",
       " 'redshift': 0.145,\n",
       " 'ra': (14, 29, 14.78),\n",
       " 'dec': (15, 46, 26.4)}"
      ]
     },
     "execution_count": 27,
     "metadata": {},
     "output_type": "execute_result"
    }
   ],
   "source": [
    "my_grb = {'name': 'GRB 130702A', 'redshift': 0.145, 'ra': (14, 29, 14.78), 'dec': (15, 46, 26.4)}\n",
    "my_grb"
   ]
  },
  {
   "cell_type": "markdown",
   "metadata": {},
   "source": [
    "You can index items in dictionaries with square braces `[]`, similar to tuples or lists:"
   ]
  },
  {
   "cell_type": "code",
   "execution_count": 28,
   "metadata": {},
   "outputs": [
    {
     "data": {
      "text/plain": [
       "(15, 46, 26.4)"
      ]
     },
     "execution_count": 28,
     "metadata": {},
     "output_type": "execute_result"
    }
   ],
   "source": [
    "my_grb['dec']"
   ]
  },
  {
   "cell_type": "markdown",
   "metadata": {},
   "source": [
    "or add items to them:"
   ]
  },
  {
   "cell_type": "code",
   "execution_count": 29,
   "metadata": {},
   "outputs": [
    {
     "data": {
      "text/plain": [
       "{'name': 'GRB 130702A',\n",
       " 'redshift': 0.145,\n",
       " 'ra': (14, 29, 14.78),\n",
       " 'dec': (15, 46, 26.4),\n",
       " 'url': 'http://gcn.gsfc.nasa.gov/other/130702A.gcn3'}"
      ]
     },
     "execution_count": 29,
     "metadata": {},
     "output_type": "execute_result"
    }
   ],
   "source": [
    "my_grb['url'] = 'http://gcn.gsfc.nasa.gov/other/130702A.gcn3'\n",
    "my_grb"
   ]
  },
  {
   "cell_type": "markdown",
   "metadata": {},
   "source": [
    "or delete items from them:"
   ]
  },
  {
   "cell_type": "code",
   "execution_count": 30,
   "metadata": {},
   "outputs": [
    {
     "data": {
      "text/plain": [
       "{'name': 'GRB 130702A',\n",
       " 'redshift': 0.145,\n",
       " 'ra': (14, 29, 14.78),\n",
       " 'dec': (15, 46, 26.4)}"
      ]
     },
     "execution_count": 30,
     "metadata": {},
     "output_type": "execute_result"
    }
   ],
   "source": [
    "del my_grb['url']\n",
    "my_grb"
   ]
  },
  {
   "cell_type": "markdown",
   "metadata": {},
   "source": [
    "Dictionary keys can be any **immutable** kind of Python object: tuples, strings, integers, and floats are all fine. Values in a dictionary can be **any Python value at all**, including lists or other dictionaries:"
   ]
  },
  {
   "cell_type": "code",
   "execution_count": 31,
   "metadata": {},
   "outputs": [
    {
     "data": {
      "text/plain": [
       "{'foods': ['chicken', 'veggie burger', 'banana'],\n",
       " 'cheeses': {'camembert', 'gouda', 'mozarella', 'muenster'},\n",
       " (5.5, 2): 42,\n",
       " 'plugh': 'bat'}"
      ]
     },
     "execution_count": 31,
     "metadata": {},
     "output_type": "execute_result"
    }
   ],
   "source": [
    "{\n",
    "    'foods': ['chicken', 'veggie burger', 'banana'],\n",
    "    'cheeses': {'muenster', 'gouda', 'camembert', 'mozarella'},\n",
    "    (5.5, 2): 42,\n",
    "    'plugh': 'bat'\n",
    "}"
   ]
  },
  {
   "cell_type": "markdown",
   "metadata": {},
   "source": [
    "### The `None` object"
   ]
  },
  {
   "cell_type": "markdown",
   "metadata": {},
   "source": [
    "Sometimes you need to represent the absence of a value, for instance, if you have a gap in a dataset. You might be tempted to use some special value like `-1` or `99` for this purpose, but **don't**! \n",
    "\n",
    "Use the built-in object `None`."
   ]
  },
  {
   "cell_type": "code",
   "execution_count": 41,
   "metadata": {},
   "outputs": [],
   "source": [
    "a = None"
   ]
  },
  {
   "cell_type": "markdown",
   "metadata": {},
   "source": [
    "### Conditionals"
   ]
  },
  {
   "cell_type": "markdown",
   "metadata": {},
   "source": [
    "In Python, control flow statements such as conditionals and loops have blocks indicated with indentation. Any number of spaces or tabs is fine, as long as you are consistent within a block. Common choices include four spaces, two spaces, or a tab.\n",
    "\n",
    "You can use the `if`...`elif`...`else` statement to have different bits of code run depending on the truth or falsehood of boolean expressions. For example:"
   ]
  },
  {
   "cell_type": "code",
   "execution_count": 35,
   "metadata": {},
   "outputs": [
    {
     "name": "stdout",
     "output_type": "stream",
     "text": [
      "i'm in the 'elif' block\n",
      "a is 3\n"
     ]
    }
   ],
   "source": [
    "a = 3\n",
    "\n",
    "if a < 3:\n",
    "    print(\"i'm in the 'if' block\")\n",
    "    message = 'a is less than 3'\n",
    "elif a == 3:\n",
    "    print(\"i'm in the 'elif' block\")\n",
    "    message = 'a is 3'\n",
    "else:\n",
    "    print(\"i'm in the 'else' block\")\n",
    "    message = 'a is greater than 3'\n",
    "\n",
    "print(message)"
   ]
  },
  {
   "cell_type": "markdown",
   "metadata": {},
   "source": [
    "You can chain together inequalities just like in mathematical notation:"
   ]
  },
  {
   "cell_type": "code",
   "execution_count": 37,
   "metadata": {},
   "outputs": [
    {
     "name": "stdout",
     "output_type": "stream",
     "text": [
      "a is greater than 0 but less than or equal to 5\n"
     ]
    }
   ],
   "source": [
    "if 0 < a <= 5:\n",
    "    print('a is greater than 0 but less than or equal to 5')"
   ]
  },
  {
   "cell_type": "markdown",
   "metadata": {},
   "source": [
    "You can also combine comparison operators with the boolean `and`, `or`, and `not` operators:"
   ]
  },
  {
   "cell_type": "code",
   "execution_count": 38,
   "metadata": {},
   "outputs": [
    {
     "name": "stdout",
     "output_type": "stream",
     "text": [
      "yahoo!\n"
     ]
    }
   ],
   "source": [
    "if a < 6 or a > 8:\n",
    "    print('yahoo!')"
   ]
  },
  {
   "cell_type": "code",
   "execution_count": 39,
   "metadata": {},
   "outputs": [
    {
     "name": "stdout",
     "output_type": "stream",
     "text": [
      "a is an odd number less than 6!\n"
     ]
    }
   ],
   "source": [
    "if a < 6 and a % 2 == 1:\n",
    "    print('a is an odd number less than 6!')"
   ]
  },
  {
   "cell_type": "code",
   "execution_count": 40,
   "metadata": {},
   "outputs": [
    {
     "name": "stdout",
     "output_type": "stream",
     "text": [
      "a is not 5\n"
     ]
    }
   ],
   "source": [
    "if not a == 5: # same as a != 5\n",
    "    print('a is not 5')"
   ]
  },
  {
   "cell_type": "markdown",
   "metadata": {},
   "source": [
    "The comparison operator `is` tests whether two Python values are not only equal, but represent the same object. Since there is only one `None` object, the `is` operator is particularly useful for detecting `None`."
   ]
  },
  {
   "cell_type": "code",
   "execution_count": 41,
   "metadata": {},
   "outputs": [
    {
     "name": "stdout",
     "output_type": "stream",
     "text": [
      "No, thanks\n"
     ]
    }
   ],
   "source": [
    "food = None\n",
    "\n",
    "if food is None:\n",
    "    print('No, thanks')\n",
    "else:\n",
    "    print('Here is your', food)"
   ]
  },
  {
   "cell_type": "markdown",
   "metadata": {},
   "source": [
    "Likewise, there is an `is not` operator:"
   ]
  },
  {
   "cell_type": "code",
   "execution_count": 42,
   "metadata": {},
   "outputs": [],
   "source": [
    "if food is not None:\n",
    "    print('Yum!')"
   ]
  },
  {
   "cell_type": "markdown",
   "metadata": {},
   "source": [
    "The `in` and `not in` operators are handy for testing for membership in a string, set, or dictionary:"
   ]
  },
  {
   "cell_type": "code",
   "execution_count": 44,
   "metadata": {},
   "outputs": [],
   "source": [
    "if 0 in {1, 2, 3, 4, 5}:\n",
    "    print('indeed it is')"
   ]
  },
  {
   "cell_type": "code",
   "execution_count": 48,
   "metadata": {},
   "outputs": [
    {
     "name": "stdout",
     "output_type": "stream",
     "text": [
      "there is no \"i\" in \"team\"\n"
     ]
    }
   ],
   "source": [
    "if 'i' not in 'team':\n",
    "    print('there is no \"i\" in \"team\"')"
   ]
  },
  {
   "cell_type": "markdown",
   "metadata": {},
   "source": [
    "When referring to a dictionary, the `in` operator tests if the item is among the **keys** of the dictionary."
   ]
  },
  {
   "cell_type": "code",
   "execution_count": 49,
   "metadata": {},
   "outputs": [
    {
     "name": "stdout",
     "output_type": "stream",
     "text": [
      "the key \"foo\" is in the dictionary\n"
     ]
    }
   ],
   "source": [
    "d = {'foo': 3, 'bar': 5, 'bat': 9}\n",
    "if 'foo' in d:\n",
    "    print('the key \"foo\" is in the dictionary')"
   ]
  },
  {
   "cell_type": "markdown",
   "metadata": {},
   "source": [
    "### The `for` and `while` loops"
   ]
  },
  {
   "cell_type": "markdown",
   "metadata": {},
   "source": [
    "In Python, there are just two types of loops: `for` and `while`. `for` loops are useful for repeating a set of statements for each item in a collection (tuple, set, list, dictionary, or string). `while` loops are not as common, but can be used to repeat a set of statements until a boolean expression becomes false."
   ]
  },
  {
   "cell_type": "code",
   "execution_count": 50,
   "metadata": {},
   "outputs": [
    {
     "name": "stdout",
     "output_type": "stream",
     "text": [
      "0\n",
      "1\n",
      "4\n",
      "9\n"
     ]
    }
   ],
   "source": [
    "for i in [0, 1, 2, 3]:\n",
    "    print(i**2)"
   ]
  },
  {
   "cell_type": "markdown",
   "metadata": {},
   "source": [
    "The built-in function `range`, which returns a list of numbers, is often handy here:"
   ]
  },
  {
   "cell_type": "code",
   "execution_count": 52,
   "metadata": {},
   "outputs": [
    {
     "name": "stdout",
     "output_type": "stream",
     "text": [
      "0\n",
      "1\n",
      "4\n",
      "9\n"
     ]
    }
   ],
   "source": [
    "for i in range(4):\n",
    "    print(i**2)"
   ]
  },
  {
   "cell_type": "markdown",
   "metadata": {},
   "source": [
    "Or you can have the range start from a nonzero value:"
   ]
  },
  {
   "cell_type": "code",
   "execution_count": 53,
   "metadata": {},
   "outputs": [
    {
     "name": "stdout",
     "output_type": "stream",
     "text": [
      "4\n",
      "1\n",
      "0\n",
      "1\n",
      "4\n",
      "9\n"
     ]
    }
   ],
   "source": [
    "for i in range(-2, 4):\n",
    "    print(i**2)"
   ]
  },
  {
   "cell_type": "markdown",
   "metadata": {},
   "source": [
    "You can iterate over the keys and values in a dictionary with `.items()`:"
   ]
  },
  {
   "cell_type": "code",
   "execution_count": 55,
   "metadata": {},
   "outputs": [
    {
     "name": "stdout",
     "output_type": "stream",
     "text": [
      "foo ... 27\n",
      "bar ... 125\n",
      "bat ... 729\n"
     ]
    }
   ],
   "source": [
    "for key, val in d.items():\n",
    "    print(key, '...', val**3)"
   ]
  },
  {
   "cell_type": "markdown",
   "metadata": {},
   "source": [
    "The syntax of the `while` loop is similar to the `if` statement:"
   ]
  },
  {
   "cell_type": "code",
   "execution_count": 56,
   "metadata": {},
   "outputs": [
    {
     "name": "stdout",
     "output_type": "stream",
     "text": [
      "2\n",
      "4\n",
      "8\n"
     ]
    }
   ],
   "source": [
    "a = 1\n",
    "while a < 5:\n",
    "    a = a * 2\n",
    "    print(a)"
   ]
  },
  {
   "cell_type": "markdown",
   "metadata": {},
   "source": [
    "### List comprehensions"
   ]
  },
  {
   "cell_type": "markdown",
   "metadata": {},
   "source": [
    "Sometimes you need a loop to create one list from another. List comprehensions make this very terse. For example, the following `for` loop:"
   ]
  },
  {
   "cell_type": "code",
   "execution_count": 57,
   "metadata": {},
   "outputs": [
    {
     "name": "stdout",
     "output_type": "stream",
     "text": [
      "[0, 10, 20, 30, 40]\n"
     ]
    }
   ],
   "source": [
    "a = []\n",
    "for i in range(5):\n",
    "    a.append(i * 10)"
   ]
  },
  {
   "cell_type": "markdown",
   "metadata": {},
   "source": [
    "is equivalent to this list comprehension:"
   ]
  },
  {
   "cell_type": "code",
   "execution_count": 58,
   "metadata": {},
   "outputs": [],
   "source": [
    "a = [i * 10 for i in range(5)]"
   ]
  },
  {
   "cell_type": "markdown",
   "metadata": {},
   "source": [
    "You can even incorporate conditionals into a list comprehension. The following:"
   ]
  },
  {
   "cell_type": "code",
   "execution_count": 61,
   "metadata": {},
   "outputs": [],
   "source": [
    "a = []\n",
    "for i in range(5):\n",
    "    if i % 2 == 0:\n",
    "        # i is even\n",
    "        a.append(i * 10)"
   ]
  },
  {
   "cell_type": "markdown",
   "metadata": {},
   "source": [
    "can be written as:"
   ]
  },
  {
   "cell_type": "code",
   "execution_count": 60,
   "metadata": {},
   "outputs": [],
   "source": [
    "a = [i * 10 for i in range(5) if i % 2 == 0]"
   ]
  },
  {
   "cell_type": "markdown",
   "metadata": {},
   "source": [
    "### Conditional expressions"
   ]
  },
  {
   "cell_type": "markdown",
   "metadata": {},
   "source": [
    "Conditional expressions are a closely related shorthand. The following:"
   ]
  },
  {
   "cell_type": "code",
   "execution_count": 61,
   "metadata": {},
   "outputs": [],
   "source": [
    "if 6/2 == 3:\n",
    "    a = 'foo'\n",
    "else:\n",
    "    a = 'bar'"
   ]
  },
  {
   "cell_type": "markdown",
   "metadata": {},
   "source": [
    "is equivalent to:"
   ]
  },
  {
   "cell_type": "code",
   "execution_count": 62,
   "metadata": {},
   "outputs": [],
   "source": [
    "a = 'foo' if 6/2 == 3 else 'bar'"
   ]
  },
  {
   "cell_type": "markdown",
   "metadata": {},
   "source": [
    "### Functions"
   ]
  },
  {
   "cell_type": "markdown",
   "metadata": {},
   "source": [
    "Functions are created with the `def` statement. A function may either have or not have a `return` statement to send back a return value."
   ]
  },
  {
   "cell_type": "code",
   "execution_count": 63,
   "metadata": {},
   "outputs": [
    {
     "name": "stdout",
     "output_type": "stream",
     "text": [
      "9\n"
     ]
    }
   ],
   "source": [
    "def square(n):\n",
    "    return n * n\n",
    "\n",
    "a = square(3)\n",
    "print(a)"
   ]
  },
  {
   "cell_type": "markdown",
   "metadata": {},
   "source": [
    "If you want to return multiple values from a function, return a tuple. Parentheses around the tuple are optional."
   ]
  },
  {
   "cell_type": "code",
   "execution_count": 65,
   "metadata": {},
   "outputs": [
    {
     "name": "stdout",
     "output_type": "stream",
     "text": [
      "(9, 27)\n"
     ]
    }
   ],
   "source": [
    "def powers(n):\n",
    "    return n**2, n**3\n",
    "\n",
    "print(powers(3))"
   ]
  },
  {
   "cell_type": "markdown",
   "metadata": {},
   "source": [
    "If a function returns multiple values, you can automatically unpack them into multiple variables:"
   ]
  },
  {
   "cell_type": "code",
   "execution_count": 66,
   "metadata": {},
   "outputs": [
    {
     "name": "stdout",
     "output_type": "stream",
     "text": [
      "9\n"
     ]
    }
   ],
   "source": [
    "square, cube = powers(3)\n",
    "print(square)"
   ]
  },
  {
   "cell_type": "markdown",
   "metadata": {},
   "source": [
    "If you pass a mutable value such as a list to a function, then **the function may modify that value**. For example, you might implement the Fibonacci sequence like this:"
   ]
  },
  {
   "cell_type": "code",
   "execution_count": 67,
   "metadata": {},
   "outputs": [
    {
     "name": "stdout",
     "output_type": "stream",
     "text": [
      "[1, 1, 2, 3, 5, 8, 13, 21, 34, 55]\n"
     ]
    }
   ],
   "source": [
    "def fibonacci(seed, n):\n",
    "    while len(seed) < n:\n",
    "        seed.append(seed[-1] + seed[-2])\n",
    "    # Note: no return statement\n",
    "\n",
    "seed = [1, 1]\n",
    "fibonacci(seed, 10)\n",
    "print(seed)"
   ]
  },
  {
   "cell_type": "markdown",
   "metadata": {},
   "source": [
    "You can also give a function's arguments default values, such as:"
   ]
  },
  {
   "cell_type": "code",
   "execution_count": 68,
   "metadata": {},
   "outputs": [
    {
     "name": "stdout",
     "output_type": "stream",
     "text": [
      "[1, 1, 2, 3, 5, 8]\n"
     ]
    }
   ],
   "source": [
    "def fibonacci(seed, n=6):\n",
    "    while len(seed) < n:\n",
    "        seed.append(seed[-1] + seed[-2])\n",
    "    # Note: no return statement\n",
    "\n",
    "seed = [1, 1]\n",
    "fibonacci(seed)\n",
    "print(seed)"
   ]
  },
  {
   "cell_type": "markdown",
   "metadata": {},
   "source": [
    "If a function has a large number of arguments, it may be easier to read if you pass the arguments by keyword, as in:"
   ]
  },
  {
   "cell_type": "code",
   "execution_count": 71,
   "metadata": {},
   "outputs": [
    {
     "name": "stdout",
     "output_type": "stream",
     "text": [
      "[1, 1, 2, 3]\n"
     ]
    }
   ],
   "source": [
    "seq = [1, 1]\n",
    "fibonacci(seed=seq, n=4)\n",
    "print (seq)"
   ]
  },
  {
   "cell_type": "markdown",
   "metadata": {},
   "source": [
    "## IV. The Python standard library"
   ]
  },
  {
   "cell_type": "markdown",
   "metadata": {},
   "source": [
    "Python comes with an extensive **[standard library](http://docs.python.org/2/library/index.html)** consisting of individual **modules** that you can opt to use with the `import` statement. For example:"
   ]
  },
  {
   "cell_type": "code",
   "execution_count": 69,
   "metadata": {},
   "outputs": [
    {
     "data": {
      "text/plain": [
       "1.7320508075688772"
      ]
     },
     "execution_count": 69,
     "metadata": {},
     "output_type": "execute_result"
    }
   ],
   "source": [
    "import math\n",
    "math.sqrt(3)"
   ]
  },
  {
   "cell_type": "code",
   "execution_count": 72,
   "metadata": {},
   "outputs": [
    {
     "data": {
      "text/plain": [
       "3.141592653589793"
      ]
     },
     "execution_count": 72,
     "metadata": {},
     "output_type": "execute_result"
    }
   ],
   "source": [
    "from math import pi\n",
    "pi"
   ]
  },
  {
   "cell_type": "markdown",
   "metadata": {},
   "source": [
    "Some particularly useful parts of the Python standard library are:\n",
    "\n",
    "* [`random`](https://docs.python.org/3/library/random.html): random number generators\n",
    "* [`pickle`](https://docs.python.org/3/library/pickle.html): read/write Python objects into files\n",
    "* [`sqlite3`](https://docs.python.org/3/library/sqlite3.html): SQLite database acces\n",
    "* [`os`](https://docs.python.org/3/library/os.html): operating system services\n",
    "* [`os.path`](https://docs.python.org/3/library/os.path.html): file path manipulation\n",
    "* [`subprocess`](https://docs.python.org/3/library/subprocess.html): launch external processes\n",
    "* [`email`](https://docs.python.org/3/library/email.html): compose, parse, receive, or send e-mail\n",
    "* [`pdb`](https://docs.python.org/3/library/pdb.html): built-in debugger\n",
    "* [`re`](https://docs.python.org/3/library/re.html): regular expressions\n",
    "* [`http`](https://docs.python.org/3/library/http.html): built-in lightweight web client and server\n",
    "* [`optparse`](https://docs.python.org/3/library/optparse.html): build pretty command-line interfaces\n",
    "* [`itertools`](https://docs.python.org/3/library/itertools.html): exotic looping constructs\n",
    "* [`multiprocessing`](https://docs.python.org/3/library/multiprocessing.html): parallel processing"
   ]
  },
  {
   "cell_type": "markdown",
   "metadata": {},
   "source": [
    "### Error handling"
   ]
  },
  {
   "cell_type": "markdown",
   "metadata": {},
   "source": [
    "It can be important for your code to be able to handle error conditions. For example, let's say that you are implementing a sinc function:"
   ]
  },
  {
   "cell_type": "code",
   "execution_count": 45,
   "metadata": {},
   "outputs": [
    {
     "ename": "ZeroDivisionError",
     "evalue": "float division by zero",
     "output_type": "error",
     "traceback": [
      "\u001b[0;31m---------------------------------------------------------------------------\u001b[0m",
      "\u001b[0;31mZeroDivisionError\u001b[0m                         Traceback (most recent call last)",
      "\u001b[0;32m<ipython-input-45-e7a6fa28a489>\u001b[0m in \u001b[0;36m<module>\u001b[0;34m\u001b[0m\n\u001b[1;32m      2\u001b[0m     \u001b[0;32mreturn\u001b[0m \u001b[0mmath\u001b[0m\u001b[0;34m.\u001b[0m\u001b[0msin\u001b[0m\u001b[0;34m(\u001b[0m\u001b[0mx\u001b[0m\u001b[0;34m)\u001b[0m \u001b[0;34m/\u001b[0m \u001b[0mx\u001b[0m\u001b[0;34m\u001b[0m\u001b[0m\n\u001b[1;32m      3\u001b[0m \u001b[0;34m\u001b[0m\u001b[0m\n\u001b[0;32m----> 4\u001b[0;31m \u001b[0mprint\u001b[0m\u001b[0;34m(\u001b[0m\u001b[0msinc\u001b[0m\u001b[0;34m(\u001b[0m\u001b[0;36m0\u001b[0m\u001b[0;34m)\u001b[0m\u001b[0;34m)\u001b[0m\u001b[0;34m\u001b[0m\u001b[0m\n\u001b[0m",
      "\u001b[0;32m<ipython-input-45-e7a6fa28a489>\u001b[0m in \u001b[0;36msinc\u001b[0;34m(x)\u001b[0m\n\u001b[1;32m      1\u001b[0m \u001b[0;32mdef\u001b[0m \u001b[0msinc\u001b[0m\u001b[0;34m(\u001b[0m\u001b[0mx\u001b[0m\u001b[0;34m)\u001b[0m\u001b[0;34m:\u001b[0m\u001b[0;34m\u001b[0m\u001b[0m\n\u001b[0;32m----> 2\u001b[0;31m     \u001b[0;32mreturn\u001b[0m \u001b[0mmath\u001b[0m\u001b[0;34m.\u001b[0m\u001b[0msin\u001b[0m\u001b[0;34m(\u001b[0m\u001b[0mx\u001b[0m\u001b[0;34m)\u001b[0m \u001b[0;34m/\u001b[0m \u001b[0mx\u001b[0m\u001b[0;34m\u001b[0m\u001b[0m\n\u001b[0m\u001b[1;32m      3\u001b[0m \u001b[0;34m\u001b[0m\u001b[0m\n\u001b[1;32m      4\u001b[0m \u001b[0mprint\u001b[0m\u001b[0;34m(\u001b[0m\u001b[0msinc\u001b[0m\u001b[0;34m(\u001b[0m\u001b[0;36m0\u001b[0m\u001b[0;34m)\u001b[0m\u001b[0;34m)\u001b[0m\u001b[0;34m\u001b[0m\u001b[0m\n",
      "\u001b[0;31mZeroDivisionError\u001b[0m: float division by zero"
     ]
    }
   ],
   "source": [
    "def sinc(x):\n",
    "    return math.sin(x) / x\n",
    "\n",
    "print(sinc(0))"
   ]
  },
  {
   "cell_type": "markdown",
   "metadata": {},
   "source": [
    "Oops! We know that by definition $\\mathrm{sinc}(0) = 1$ , so we should catch this error:"
   ]
  },
  {
   "cell_type": "code",
   "execution_count": 46,
   "metadata": {},
   "outputs": [
    {
     "name": "stdout",
     "output_type": "stream",
     "text": [
      "1\n"
     ]
    }
   ],
   "source": [
    "def sinc(x):\n",
    "    try:\n",
    "        result = math.sin(x) / x\n",
    "    except ZeroDivisionError:\n",
    "        result = 1\n",
    "    return result\n",
    "\n",
    "print(sinc(0))"
   ]
  },
  {
   "cell_type": "markdown",
   "metadata": {},
   "source": [
    "### Reading and writing files"
   ]
  },
  {
   "cell_type": "markdown",
   "metadata": {},
   "source": [
    "The built-in `open` function opens a file and returns a `file` object that you can use to read or write data. Here's an example of writing data to a file:"
   ]
  },
  {
   "cell_type": "code",
   "execution_count": 73,
   "metadata": {},
   "outputs": [],
   "source": [
    "myfile = open('myfile.txt', 'w') # open file for writing\n",
    "myfile.write(\"red 1\\n\")\n",
    "myfile.write(\"green 2\\n\")\n",
    "myfile.write(\"blue 3\\n\")\n",
    "myfile.close()"
   ]
  },
  {
   "cell_type": "markdown",
   "metadata": {},
   "source": [
    "And here is reading it:"
   ]
  },
  {
   "cell_type": "code",
   "execution_count": 74,
   "metadata": {},
   "outputs": [
    {
     "name": "stdout",
     "output_type": "stream",
     "text": [
      "{'red': 1, 'green': 2, 'blue': 3}\n"
     ]
    }
   ],
   "source": [
    "d = {} # create empty dictionary\n",
    "\n",
    "for line in open('myfile.txt', 'r'): # open file for reading\n",
    "    color, num = line.split() # break apart line by whitespace\n",
    "    num = int(num) # convert num to integer\n",
    "    d[color] = num\n",
    "\n",
    "print(d)"
   ]
  },
  {
   "cell_type": "markdown",
   "metadata": {},
   "source": [
    "## V. Numpy & Matplotlib"
   ]
  },
  {
   "cell_type": "markdown",
   "metadata": {},
   "source": [
    "Numpy provides array operations and linear algebra to Python. A Numpy array is a bit like a Python list, but supports elementwise arithmetic. For example:"
   ]
  },
  {
   "cell_type": "code",
   "execution_count": 75,
   "metadata": {},
   "outputs": [
    {
     "name": "stdout",
     "output_type": "stream",
     "text": [
      "[ 2  4  6  8 10]\n"
     ]
    }
   ],
   "source": [
    "import numpy as np\n",
    "\n",
    "x = np.asarray([1, 2, 3, 4, 5])\n",
    "y = 2 * x\n",
    "print(y)"
   ]
  },
  {
   "cell_type": "markdown",
   "metadata": {},
   "source": [
    "Numpy arrays may have any number of dimensions:"
   ]
  },
  {
   "cell_type": "code",
   "execution_count": 76,
   "metadata": {},
   "outputs": [
    {
     "data": {
      "text/plain": [
       "array([[1, 2, 3],\n",
       "       [4, 5, 6],\n",
       "       [7, 8, 9]])"
      ]
     },
     "execution_count": 76,
     "metadata": {},
     "output_type": "execute_result"
    }
   ],
   "source": [
    "x = np.asarray([[1, 2, 3], [4, 5, 6], [7, 8, 9]])\n",
    "x"
   ]
  },
  {
   "cell_type": "code",
   "execution_count": 81,
   "metadata": {},
   "outputs": [
    {
     "data": {
      "text/plain": [
       "array([[9, 8, 7],\n",
       "       [6, 5, 4],\n",
       "       [3, 2, 1]])"
      ]
     },
     "execution_count": 81,
     "metadata": {},
     "output_type": "execute_result"
    }
   ],
   "source": [
    "y = np.asarray([[9, 8, 7], [6, 5, 4], [3, 2, 1]])\n",
    "y"
   ]
  },
  {
   "cell_type": "markdown",
   "metadata": {},
   "source": [
    "An array has a certain number of dimensions denoted `.ndim`:"
   ]
  },
  {
   "cell_type": "code",
   "execution_count": 77,
   "metadata": {},
   "outputs": [
    {
     "data": {
      "text/plain": [
       "2"
      ]
     },
     "execution_count": 77,
     "metadata": {},
     "output_type": "execute_result"
    }
   ],
   "source": [
    "x.ndim"
   ]
  },
  {
   "cell_type": "markdown",
   "metadata": {},
   "source": [
    "and the dimensions' individual lengths are given by `.shape`:"
   ]
  },
  {
   "cell_type": "code",
   "execution_count": 82,
   "metadata": {},
   "outputs": [
    {
     "data": {
      "text/plain": [
       "(3, 3)"
      ]
     },
     "execution_count": 82,
     "metadata": {},
     "output_type": "execute_result"
    }
   ],
   "source": [
    "x.shape"
   ]
  },
  {
   "cell_type": "markdown",
   "metadata": {},
   "source": [
    "and the total number of elements by `.size`:"
   ]
  },
  {
   "cell_type": "code",
   "execution_count": 84,
   "metadata": {},
   "outputs": [
    {
     "data": {
      "text/plain": [
       "9"
      ]
     },
     "execution_count": 84,
     "metadata": {},
     "output_type": "execute_result"
    }
   ],
   "source": [
    "x.size"
   ]
  },
  {
   "cell_type": "markdown",
   "metadata": {},
   "source": [
    "By default, multiplication is elementwise:"
   ]
  },
  {
   "cell_type": "code",
   "execution_count": 85,
   "metadata": {},
   "outputs": [
    {
     "data": {
      "text/plain": [
       "array([[ 9, 16, 21],\n",
       "       [24, 25, 24],\n",
       "       [21, 16,  9]])"
      ]
     },
     "execution_count": 85,
     "metadata": {},
     "output_type": "execute_result"
    }
   ],
   "source": [
    "x * y"
   ]
  },
  {
   "cell_type": "markdown",
   "metadata": {},
   "source": [
    "To perform matrix multiplication, either convert arrays to `np.matrix` or use `np.dot`:"
   ]
  },
  {
   "cell_type": "code",
   "execution_count": 82,
   "metadata": {},
   "outputs": [
    {
     "data": {
      "text/plain": [
       "matrix([[ 30,  24,  18],\n",
       "        [ 84,  69,  54],\n",
       "        [138, 114,  90]])"
      ]
     },
     "execution_count": 82,
     "metadata": {},
     "output_type": "execute_result"
    }
   ],
   "source": [
    "np.asmatrix(x) * np.asmatrix(y)"
   ]
  },
  {
   "cell_type": "code",
   "execution_count": 83,
   "metadata": {},
   "outputs": [
    {
     "data": {
      "text/plain": [
       "array([[ 30,  24,  18],\n",
       "       [ 84,  69,  54],\n",
       "       [138, 114,  90]])"
      ]
     },
     "execution_count": 83,
     "metadata": {},
     "output_type": "execute_result"
    }
   ],
   "source": [
    "np.dot(x, y)"
   ]
  },
  {
   "cell_type": "markdown",
   "metadata": {},
   "source": [
    "You can also perform comparison operations on arrays..."
   ]
  },
  {
   "cell_type": "code",
   "execution_count": 84,
   "metadata": {},
   "outputs": [
    {
     "data": {
      "text/plain": [
       "array([[False, False, False],\n",
       "       [False, False,  True],\n",
       "       [ True,  True,  True]])"
      ]
     },
     "execution_count": 84,
     "metadata": {},
     "output_type": "execute_result"
    }
   ],
   "source": [
    "x > 5"
   ]
  },
  {
   "cell_type": "markdown",
   "metadata": {},
   "source": [
    "Although a boolean array doesn't directly make sense in an `if` statement:"
   ]
  },
  {
   "cell_type": "code",
   "execution_count": 86,
   "metadata": {},
   "outputs": [
    {
     "ename": "ValueError",
     "evalue": "The truth value of an array with more than one element is ambiguous. Use a.any() or a.all()",
     "output_type": "error",
     "traceback": [
      "\u001b[0;31m---------------------------------------------------------------------------\u001b[0m",
      "\u001b[0;31mValueError\u001b[0m                                Traceback (most recent call last)",
      "\u001b[0;32m<ipython-input-86-5a5904c20c71>\u001b[0m in \u001b[0;36m<module>\u001b[0;34m\u001b[0m\n\u001b[0;32m----> 1\u001b[0;31m \u001b[0;32mif\u001b[0m \u001b[0mx\u001b[0m \u001b[0;34m>\u001b[0m \u001b[0;36m5\u001b[0m\u001b[0;34m:\u001b[0m\u001b[0;34m\u001b[0m\u001b[0;34m\u001b[0m\u001b[0m\n\u001b[0m\u001b[1;32m      2\u001b[0m     \u001b[0mprint\u001b[0m\u001b[0;34m(\u001b[0m\u001b[0;34m'oops'\u001b[0m\u001b[0;34m)\u001b[0m\u001b[0;34m\u001b[0m\u001b[0;34m\u001b[0m\u001b[0m\n",
      "\u001b[0;31mValueError\u001b[0m: The truth value of an array with more than one element is ambiguous. Use a.any() or a.all()"
     ]
    }
   ],
   "source": [
    "if x > 5:\n",
    "    print('oops')"
   ]
  },
  {
   "cell_type": "code",
   "execution_count": 87,
   "metadata": {},
   "outputs": [
    {
     "name": "stdout",
     "output_type": "stream",
     "text": [
      "at least some elements are greater than 5\n"
     ]
    }
   ],
   "source": [
    "if np.any(x > 5):\n",
    "    print('at least some elements are greater than 5')"
   ]
  },
  {
   "cell_type": "markdown",
   "metadata": {},
   "source": [
    "You can use conditional expressions like indices:"
   ]
  },
  {
   "cell_type": "code",
   "execution_count": 87,
   "metadata": {},
   "outputs": [
    {
     "data": {
      "text/plain": [
       "array([[1, 2, 3],\n",
       "       [4, 5, 5],\n",
       "       [5, 5, 5]])"
      ]
     },
     "execution_count": 87,
     "metadata": {},
     "output_type": "execute_result"
    }
   ],
   "source": [
    "x[x > 5] = 5\n",
    "x"
   ]
  },
  {
   "cell_type": "markdown",
   "metadata": {},
   "source": [
    "Or manipulate individual rows:"
   ]
  },
  {
   "cell_type": "code",
   "execution_count": 88,
   "metadata": {},
   "outputs": [
    {
     "data": {
      "text/plain": [
       "array([[ 1,  2,  3],\n",
       "       [-1, -1, -1],\n",
       "       [ 7,  8,  9]])"
      ]
     },
     "execution_count": 88,
     "metadata": {},
     "output_type": "execute_result"
    }
   ],
   "source": [
    "x[1, :] = -1\n",
    "x"
   ]
  },
  {
   "cell_type": "markdown",
   "metadata": {},
   "source": [
    "Or individual columns:"
   ]
  },
  {
   "cell_type": "code",
   "execution_count": 89,
   "metadata": {},
   "outputs": [
    {
     "data": {
      "text/plain": [
       "array([[  1, 102,   3],\n",
       "       [ -1,  99,  -1],\n",
       "       [  7, 108,   9]])"
      ]
     },
     "execution_count": 89,
     "metadata": {},
     "output_type": "execute_result"
    }
   ],
   "source": [
    "x[:, 1] += 100\n",
    "x"
   ]
  },
  {
   "cell_type": "markdown",
   "metadata": {},
   "source": [
    "Other useful features include various random number generators:"
   ]
  },
  {
   "cell_type": "code",
   "execution_count": 91,
   "metadata": {},
   "outputs": [
    {
     "data": {
      "application/vnd.jupyter.widget-view+json": {
       "model_id": "aca5a8e729504c6797e7aeae74e7a64a",
       "version_major": 2,
       "version_minor": 0
      },
      "text/plain": [
       "Canvas(toolbar=Toolbar(toolitems=[('Home', 'Reset original view', 'home', 'home'), ('Back', 'Back to previous …"
      ]
     },
     "metadata": {},
     "output_type": "display_data"
    },
    {
     "data": {
      "text/plain": [
       "(array([   8.,   94.,  410., 1293., 2481., 2816., 1883.,  784.,  203.,\n",
       "          28.]),\n",
       " array([-3.84413224, -3.11328745, -2.38244267, -1.65159789, -0.9207531 ,\n",
       "        -0.18990832,  0.54093647,  1.27178125,  2.00262604,  2.73347082,\n",
       "         3.4643156 ]),\n",
       " <a list of 10 Patch objects>)"
      ]
     },
     "execution_count": 91,
     "metadata": {},
     "output_type": "execute_result"
    }
   ],
   "source": [
    "from matplotlib import pyplot as plt\n",
    "#%matplotlib inline\n",
    "%matplotlib widget\n",
    "\n",
    "# Plot histogram of 10k normal random variates\n",
    "plt.hist(np.random.randn(10000))"
   ]
  },
  {
   "cell_type": "code",
   "execution_count": 93,
   "metadata": {},
   "outputs": [
    {
     "data": {
      "text/plain": [
       "5.27035340076783"
      ]
     },
     "execution_count": 93,
     "metadata": {},
     "output_type": "execute_result"
    }
   ],
   "source": [
    "np.random.uniform(low=0, high=2*np.pi)"
   ]
  },
  {
   "cell_type": "markdown",
   "metadata": {},
   "source": [
    "You've already seen a few examples of Matplotlib. If you have used MATLAB, then Matplotlib code may look familiar."
   ]
  },
  {
   "cell_type": "code",
   "execution_count": 102,
   "metadata": {},
   "outputs": [
    {
     "data": {
      "application/vnd.jupyter.widget-view+json": {
       "model_id": "351ee6b41560430a99959f0670cb15e2",
       "version_major": 2,
       "version_minor": 0
      },
      "text/plain": [
       "Canvas(toolbar=Toolbar(toolitems=[('Home', 'Reset original view', 'home', 'home'), ('Back', 'Back to previous …"
      ]
     },
     "metadata": {},
     "output_type": "display_data"
    }
   ],
   "source": [
    "x = np.linspace(-10, 10)\n",
    "y = 1 / (1 + np.exp(x))\n",
    "plt.figure()\n",
    "plt.plot(x, y)\n",
    "plt.annotate(\n",
    "    'foo bar', (x[20], y[20]), (50, 5),\n",
    "    textcoords='offset points',\n",
    "    arrowprops={'arrowstyle': '->'})\n",
    "plt.grid()"
   ]
  },
  {
   "cell_type": "markdown",
   "metadata": {},
   "source": [
    "## VI. Astropy"
   ]
  },
  {
   "cell_type": "markdown",
   "metadata": {},
   "source": [
    "Astropy is a core Python package for astronomy. It is formed from the merger of a number of other Python astronomy packages, but also contains a lot of original code. Core features include:\n",
    "\n",
    "* `astropy.constants`, `astropy.units`: Physical constants, units, and unit conversion\n",
    "* `astropy.time`: Manipulation of dates and times\n",
    "* `astropy.coordinates`: Representation of and conversion between astronomical coordinate systems\n",
    "* `astropy.table`: Tables and gridded data\n",
    "* `astropy.io.fits`: Manipulating FITS files\n",
    "* `astropy.io.ascii`: Manipulating ASCII tables of many different formats\n",
    "* `astropy.io.votable`: Virtual Observatory tables\n",
    "* `astropy.wcs`: World Coordinate System transformations\n",
    "* `astropy.cosmology`: Cosmological calculations\n",
    "* `astropy.stats`: Astrostatistics\n",
    "* `astropy.modeling`: multi-D model fitting Swiss army knife\n",
    "\n",
    "The Astropy project also has sevearl [\"affiliated packages\"](http://www.astropy.org/affiliated/index.html) that have similar design but are maintained separately, including:\n",
    "\n",
    "* [Photutils](https://photutils.readthedocs.io/): Aperture photometry\n",
    "* [Astroquery](https://astroquery.readthedocs.io/): Query astronomical databases"
   ]
  },
  {
   "cell_type": "markdown",
   "metadata": {},
   "source": [
    "Let's experiment by opening up a P48 image. We'll need several modules from the Astropy package for this exercise."
   ]
  },
  {
   "cell_type": "code",
   "execution_count": 95,
   "metadata": {},
   "outputs": [],
   "source": [
    "import astropy.coordinates\n",
    "import astropy.units as u\n",
    "import astropy.io.fits\n",
    "import astropy.stats\n",
    "import astropy.table\n",
    "import astropy.wcs\n",
    "import astropy.cosmology\n",
    "import scipy.optimize\n",
    "import scipy.odr"
   ]
  },
  {
   "cell_type": "markdown",
   "metadata": {},
   "source": [
    "I've downloaded a P48 image and put it in the data/ directory."
   ]
  },
  {
   "cell_type": "code",
   "execution_count": 96,
   "metadata": {},
   "outputs": [
    {
     "data": {
      "text/plain": [
       "[<astropy.io.fits.hdu.image.PrimaryHDU object at 0x101c0c5c90>]"
      ]
     },
     "execution_count": 96,
     "metadata": {},
     "output_type": "execute_result"
    }
   ],
   "source": [
    "fits = astropy.io.fits.open('data/PTF_201307021787_i_p_scie_t041723_u016616794_f02_p003486_c11.fits')\n",
    "fits"
   ]
  },
  {
   "cell_type": "markdown",
   "metadata": {},
   "source": [
    "Let's grab the first (and only) HDU of this FITS file:"
   ]
  },
  {
   "cell_type": "code",
   "execution_count": 97,
   "metadata": {},
   "outputs": [],
   "source": [
    "hdu = fits[0]"
   ]
  },
  {
   "cell_type": "markdown",
   "metadata": {},
   "source": [
    "Then let's take a look at the contents of the header:"
   ]
  },
  {
   "cell_type": "code",
   "execution_count": 98,
   "metadata": {},
   "outputs": [
    {
     "data": {
      "text/plain": [
       "SIMPLE  =                    T / Fits standard                                  \n",
       "BITPIX  =                  -32 / FOUR-BYTE SINGLE PRECISION FLOATING POINT      \n",
       "NAXIS   =                    2 / STANDARD FITS FORMAT                           \n",
       "NAXIS1  =                 2048 / STANDARD FITS FORMAT                           \n",
       "NAXIS2  =                 4096 / STANDARD FITS FORMAT                           \n",
       "ORIGIN  = 'Palomar Transient Factory' / Origin of these image data              \n",
       "CREATOR = 'Infrared Processing and Analysis Center' / Creator of this FITS file \n",
       "TELESCOP= 'P48     '           / Name of telescope                              \n",
       "INSTRUME= 'PTF/MOSAIC'         / Instrument name                                \n",
       "OBSERVER= 'KulkarniPTF'        / Observer name and project                      \n",
       "CCDID   = '11      '           / CCD number (0..11)                             \n",
       "DATE-OBS= '2013-07-02T04:17:23.555' / UTC shutter time YYYY-MM-DDTHH:MM:SS.SSS  \n",
       "DATE    = '2013-07-01T21:35:19' / File creation date (YYYY-MM-DDThh:mm:ss UT)   \n",
       "REFERENC= 'http://www.astro.caltech.edu/ptf' / URL of PTF website               \n",
       "                                                                                \n",
       "          / PROPOSAL INFORMATION                                                \n",
       "                                                                                \n",
       "PTFPRPI = 'Kulkarni'           / PTF Project PI                                 \n",
       "PTFPID  = '30011   '           / Project type: 00000-49999                      \n",
       "OBJECT  = 'PTF_survey'         / Fields object                                  \n",
       "PTFFIELD= '3486    '           / PTF unique field ID                            \n",
       "PTFFLAG = '1       '           / 1 = PTF; 0 = non-PTF category                  \n",
       "                                                                                \n",
       "          / TIME AND EXPOSURE INFORMATION                                       \n",
       "                                                                                \n",
       "FILTER  = 'R       '           / Filter name                                    \n",
       "FILTERID= '2       '           / Filter ID                                      \n",
       "FILTERSL= '1       '           / Filter changer slot position                   \n",
       "EXPTIME =                  60. / [s] Requested exposure time                    \n",
       "AEXPTIME=                  60. / actual exposure time (sec)                     \n",
       "UTC-OBS = '2013-07-02T04:17:23.555' / UTC time shutter open YYYY-MM-DDTHH:MM:SS.\n",
       "OBSJD   =        2456475.67874 / [day] Julian day corresponds to UTC-OBS        \n",
       "OBSMJD  =          56475.17874 / MJD corresponds to UTC-OBS (day)               \n",
       "OBSLST  = '15:11:26.46'        / Mean LST corresponds to UTC-OBS 'HH:MM:SS.S'   \n",
       "HOURANG = '0:48:14.61'         / Mean HA (sHH:MM:SS.S) based on LMST at UTC-OBS \n",
       "HJD     =        2456475.68019 / [day] Heliocentric Julian Day                  \n",
       "OBSTYPE = 'object  '           / Image type (dark,science,bias,focus)           \n",
       "IMGTYP  = 'object  '           / Image type (dark,science,bias,focus)           \n",
       "                                                                                \n",
       "          / MOON AND SUN                                                        \n",
       "                                                                                \n",
       "MOONRA  =             30.98457 / [deg] Moon J2000.0 R.A.                        \n",
       "MOONDEC =            12.984756 / [deg] Moon J2000.0 Dec.                        \n",
       "MOONILLF=            -0.306369 / [frac] Moon illuminated fraction               \n",
       "MOONPHAS=             247.2158 / [deg] Moon phase angle                         \n",
       "MOONESB =                  -0. / Moon excess in sky brightness V-band           \n",
       "MOONALT =            -40.94289 / [deg] Moon altitude                            \n",
       "SUNAZ   =             310.3019 / [deg] Sun azimuth                              \n",
       "SUNALT  =            -14.00398 / [deg] Sun altitude                             \n",
       "                                                                                \n",
       "          / PHOTOMETRY                                                          \n",
       "                                                                                \n",
       "BUNIT   = 'DN      '           / Data number (analog-to-digital units or ADU)   \n",
       "PHTCALEX=                    1 / Was phot.-cal. module executed?                \n",
       "PHTCALFL=                    1 / Flag for image is photometric (0=N, 1=Y)       \n",
       "PCALRMSE=             0.215766 / RMSE from (zeropoint, extinction) data fit     \n",
       "IMAGEZPT=             23.72382 / Image magnitude zeropoint                      \n",
       "COLORTRM=            -0.012228 / Image color term (g-r)                         \n",
       "ZPTSIGMA=             1.886777 / Robust dispersion of SEx-SDSS magnitudes       \n",
       "IZPORIG = 'SDSS    '           / Photometric-calibration origin                 \n",
       "ZPRULE  = 'DIRECT  '           / Photometric-calibration method                 \n",
       "MAGZPT  =             23.77773 / Magnitude zeropoint at airmass=1               \n",
       "EXTINCT =            -0.195707 / Extinction                                     \n",
       "APSFILT = 'r       '           / SDSS filter used in abs phot cal               \n",
       "APSCOL  = 'r-i     '           / SDSS color used in abs phot cal                \n",
       "APRMS   =           0.05618604 / RMS in mag of final abs phot cal               \n",
       "APBSRMS =            0.0344094 / RMS in mag of final abs phot cal for bright sta\n",
       "APNSTDI1=               177080 / Number of standard stars in first iteration    \n",
       "APNSTDIF=               160107 / Number of standard stars in final iteration    \n",
       "APCHI2  =      771280.24477198 / Chi2 of final abs phot cal                     \n",
       "APDOF   =              160096. / Dof of chi2 of final abs phot cal              \n",
       "APMEDJD =     2456475.80246722 / Median JD used in abs phot cal                 \n",
       "APPN01  = 'ZeroPoint'          / Name of parameter abs phot cal 01              \n",
       "APPAR01 =          23.68493517 / Value of parameter abs phot cal 01             \n",
       "APPARE01=            0.0026937 / Error of parameter abs phot cal 01             \n",
       "APPN02  = 'ColorTerm'          / Name of parameter abs phot cal 02              \n",
       "APPAR02 =          -0.03174945 / Value of parameter abs phot cal 02             \n",
       "APPARE02=           0.00383537 / Error of parameter abs phot cal 02             \n",
       "APPN03  = 'AirMassTerm'        / Name of parameter abs phot cal 03              \n",
       "APPAR03 =          -0.28459543 / Value of parameter abs phot cal 03             \n",
       "APPARE03=           0.00226667 / Error of parameter abs phot cal 03             \n",
       "APPN04  = 'AirMassColorTerm'   / Name of parameter abs phot cal 04              \n",
       "APPAR04 =           0.24261075 / Value of parameter abs phot cal 04             \n",
       "APPARE04=           0.00313212 / Error of parameter abs phot cal 04             \n",
       "APPN05  = 'TimeTerm'           / Name of parameter abs phot cal 05              \n",
       "APPAR05 =           0.19911481 / Value of parameter abs phot cal 05             \n",
       "APPARE05=           0.00219937 / Error of parameter abs phot cal 05             \n",
       "APPN06  = 'Time2Term'          / Name of parameter abs phot cal 06              \n",
       "APPAR06 =           1.65698453 / Value of parameter abs phot cal 06             \n",
       "APPARE06=           0.02684713 / Error of parameter abs phot cal 06             \n",
       "APPN07  = 'XTerm   '           / Name of parameter abs phot cal 07              \n",
       "APPAR07 =           0.02703671 / Value of parameter abs phot cal 07             \n",
       "APPARE07=           0.00053429 / Error of parameter abs phot cal 07             \n",
       "APPN08  = 'YTerm   '           / Name of parameter abs phot cal 08              \n",
       "APPAR08 =          -0.01528394 / Value of parameter abs phot cal 08             \n",
       "APPARE08=           0.00131972 / Error of parameter abs phot cal 08             \n",
       "APPN09  = 'Y2Term  '           / Name of parameter abs phot cal 09              \n",
       "APPAR09 =           0.00938432 / Value of parameter abs phot cal 09             \n",
       "APPARE09=           0.00208283 / Error of parameter abs phot cal 09             \n",
       "APPN10  = 'Y3Term  '           / Name of parameter abs phot cal 10              \n",
       "APPAR10 =           0.03443254 / Value of parameter abs phot cal 10             \n",
       "APPARE10=           0.00825142 / Error of parameter abs phot cal 10             \n",
       "APPN11  = 'XYTerm  '           / Name of parameter abs phot cal 11              \n",
       "APPAR11 =           0.01025838 / Value of parameter abs phot cal 11             \n",
       "APPARE11=           0.00188474 / Error of parameter abs phot cal 11             \n",
       "                                                                                \n",
       "          / ASTROMETRY                                                          \n",
       "                                                                                \n",
       "WCSAXES =                    2 / Number of axes in world coordinate system      \n",
       "CRVAL1  =     217.309490953823 / [deg] RA of reference point                    \n",
       "CRVAL2  =     16.6581466832508 / [deg] DEC of reference point                   \n",
       "CRPIX1  =             1497.193 / [pix] Image reference point                    \n",
       "CRPIX2  =             609.3031 / [pix] Image reference point                    \n",
       "CTYPE1  = 'RA---TAN-SIP'       / TAN (gnomic) projection + SIP distortions      \n",
       "CTYPE2  = 'DEC--TAN-SIP'       / TAN (gnomic) projection + SIP distortions      \n",
       "CUNIT1  = 'deg     '           / Image axis-1 celestial-coordinate units        \n",
       "CUNIT2  = 'deg     '           / Image axis-2 celestial-coordinate units        \n",
       "CRTYPE1 = 'deg     '           / Data units of CRVAL1                           \n",
       "CRTYPE2 = 'deg     '           / Data units of CRVAL2                           \n",
       "CD1_1   = 0.000280377484830748 / Transformation matrix                          \n",
       "CD1_2   = -1.71606271442079E-06                                                 \n",
       "CD2_1   = -1.61073877029747E-06                                                 \n",
       "CD2_2   = -0.000280943199913645                                                 \n",
       "OBJRA   = '14:22:34.454'       / Requested field J2000.0 Ra.                    \n",
       "OBJDEC  = '+16:52:30.00'       / Requested field J2000.0 Dec.                   \n",
       "OBJRAD  =            215.64356 / [deg] Requested field RA (J2000.0)             \n",
       "OBJDECD =               16.875 / [deg] Requested field Dec (J2000.0)            \n",
       "PIXSCALE=                 1.01 / [arcsec/pix] Pixel scale                       \n",
       "EQUINOX =                2000. / [yr] Equatorial coordinates definition         \n",
       "LONPOLE =                 180.                                                  \n",
       "LATPOLE =                   0.                                                  \n",
       "                                                                                \n",
       "          / IMAGE QUALITY                                                       \n",
       "                                                                                \n",
       "SEEING  =                 1.71 / [pix] Seeing FWHM                              \n",
       "PEAKDIST=    0.389898704794061 / [pix] Mean dist brightest pixel-centroid pixel \n",
       "ELLIP   =                0.107 / Mean image ellipticity A/B                     \n",
       "ELLIPPA =               -35.01 / [deg] Mean image ellipticity PA                \n",
       "FBIAS   =             689.3355 / [DN] Floating bias of the image                \n",
       "SATURVAL=               53000. / [DN] Saturation value of the CCD array         \n",
       "FWHMSEX =                 1.85 / [arcsec] SExtractor SEEING estimate            \n",
       "MDSKYMAG=             20.39761 / [mag/s-arcsec^2] Median sky obsolete           \n",
       "MSMAPCZP=             20.05711 / [mag/s-arcsec^2] Median sky abs. phot. cal.    \n",
       "LIMITMAG=             21.74218 / [mag/s-arcsec^2] Limiting magnitude obsolete   \n",
       "LMGAPCZP=             21.40168 / [mag/s-arcsec^2] Limiting mag. abs. phot. cal. \n",
       "MEDFWHM =             2.608781 / [arcsecond] Median FWHM                        \n",
       "MEDELONG=             1.168383 / [dimensionless] Median elongation              \n",
       "STDELONG=            0.6377625 / [dimensionless] Std. dev. of elongation        \n",
       "MEDTHETA=            -7.846824 / [deg] Atan(median sin(theta)/median cos(theta))\n",
       "STDTHETA=              64.7667 / [deg] Atan(stddev sin(theta)/stddev cos(theta))\n",
       "MEDDLMAG=             30.16257 / [mag/s-arcsec^2] Median (MU_MAX-MAG_AUTO)      \n",
       "STDDLMAG=             1.823812 / [mag/s-arcsec^2] Stddev of (MU_MAX-MAG_AUTO)   \n",
       "                                                                                \n",
       "          / OBSERVATORY AND TCS                                                 \n",
       "                                                                                \n",
       "OCS_TIME= '2013-07-02T04:17:23.461' / UTC Date for OCS calc time-dep params     \n",
       "OPERMODE= 'OCS     '           / Mode of operation: OCS | Manual | N/A          \n",
       "SOFTVER = '1.1.1.1 '           / Softwere version (TCS.Camera.OCS.Sched)        \n",
       "OCS_VER = '1       '           / OCS software version and date                  \n",
       "TCS_VER = '1       '           / TCS software version and date                  \n",
       "SCH_VER = '1       '           / OCS-Scheduler software version and date        \n",
       "MAT_VER = '7.7.0.471'          / Matlab version                                 \n",
       "HDR_VER = '1       '           / Header version                                 \n",
       "TRIGGER = 'N/A     '           / trigger ID for TOO, e.g. VOEVENT-Nr            \n",
       "TCSMODE = 'Star    '           / TCS fundamental mode                           \n",
       "TCSSMODE= 'Active  '           / TCS fundamental submode                        \n",
       "TCSFMODE= 'Pos     '           / TCS focus mode                                 \n",
       "TCSFSMOD= 'On-Target'          / TCS focus submode                              \n",
       "TCSDMODE= 'Stop    '           / TCS dome mode                                  \n",
       "TCSDSMOD= 'N/A     '           / TCS dome submode                               \n",
       "TCSWMODE= 'Slave   '           / TCS windscreen mode                            \n",
       "TCSWSMOD= 'N/A     '           / TCS windscreen submode                         \n",
       "OBSLAT  =              33.3574 / [deg] Telescope geodetic latitude in WGS84     \n",
       "OBSLON  =            -116.8599 / [deg] Telescope geodetic longitude in WGS84    \n",
       "OBSALT  =               1703.2 / [m] Telescope geodetic altitude in WGS84       \n",
       "DEFOCUS =                   0. / [mm] Focus position - nominal focus            \n",
       "FOCUSPOS=               1.3785 / [mm] Exposures focusPos                        \n",
       "DOMESTAT= 'open    '           / Dome status at begining of exposure            \n",
       "TRACKRA =                 10.6 / [arcsec/hr] Track speed RA rel to sidereal     \n",
       "TRACKDEC=                  1.3 / [arcsec/hr] Track speed Dec rel to sidereal    \n",
       "AZIMUTH =             216.6835 / [deg] Telescope Azimuth                        \n",
       "ALTITUDE=             70.18806 / [deg] Telescope altitude                       \n",
       "AIRMASS =             1.062788 / Telescope airmass                              \n",
       "TELRA   =             215.7994 / [deg] Telescope ap equinox of date RA          \n",
       "TELDEC  =              16.8139 / [deg] Telescope ap equinox of date Dec         \n",
       "TELHA   =              12.0595 / [deg] Telescope ap equinox of date HA          \n",
       "DOMEAZ  =             215.3933 / [deg] Dome azimuth                             \n",
       "WINDSCAL=              10.1089 / [deg] Wind screen altitude                     \n",
       "WINDDIR =                  1.6 / [deg] Azimuth of wind direction                \n",
       "WINDSPED=               9.1656 / Wind speed (km/hour)                           \n",
       "OUTTEMP =             23.33333 / [C] Outside temperature                        \n",
       "OUTRELHU=                0.409 / [frac] Outside relative humidity               \n",
       "OUTDEWPT=             9.277778 / [C] Outside dew point                          \n",
       "                                                                                \n",
       "          / INSTRUMENT TELEMETRY                                                \n",
       "                                                                                \n",
       "PANID   = '_p48s   '           / PAN identification                             \n",
       "DHSID   = '_p48s   '           / DHS identification                             \n",
       "CCDSEC  = '[1:2048,1:4096]'    / CCD section                                    \n",
       "CCDSIZE = '[1:2048,1:4096]'    / CCD size                                       \n",
       "DATASEC = '[1:2048,1:4096]'    / Data section                                   \n",
       "DETSEC  = '[1:2048,1:4096]'    / Detector section                               \n",
       "ROISEC  = '[1:2048,1:4096]'    / ROI section                                    \n",
       "FPA     = 'P48MOSAIC'          / Focal plan array                               \n",
       "CCDNAME = 'W7C1    '           / Detector mfg serial number                     \n",
       "CHECKSUM= '        '           / Image header unit checksum                     \n",
       "DATASUM = '        '           / Image data unit checksum                       \n",
       "DHEINF  = 'SDSU, Gen-III'      / Controller info                                \n",
       "DHEFIRM = '/usr/src/dsp/20090618/tim_m.lod' / DSP software                      \n",
       "CAM_VER = '20090615.1.3.100000' / Camera server date.rev.cfitsio                \n",
       "LV_VER  = '8.5     '           / LabVIEW software version                       \n",
       "PCI_VER = '2.0c    '           / Astropci software version                      \n",
       "DETID   = 'PTF/MOSAIC'         / Detector ID                                    \n",
       "AUTHOR  = 'PTF/OCS/TCS/Camera' / Source for header information                  \n",
       "DATAMIN =                   0. / Minimum value for array                        \n",
       "ROISTATE= 'ROI     '           / ROI State (FULL | ROI)                         \n",
       "LEDBLUE = 'OFF     '           / 470nm LED state (ON | OFF)                     \n",
       "LEDRED  = 'OFF     '           / 660nm LED state (ON | OFF)                     \n",
       "LEDNIR  = 'OFF     '           / 880nm LED state (ON | OFF)                     \n",
       "CCD9TEMP=              175.002 / [K] 0x0 servo temp sensor on CCD09             \n",
       "HSTEMP  =               150.25 / [K] 0x1 heat spreader temp                     \n",
       "DHE0TEMP=              303.015 / [K] 0x2 detector head electronics temp, master \n",
       "DHE1TEMP=              304.935 / [K] 0x3 detector head electronics temp, slave  \n",
       "DEWWTEMP=              292.787 / [K] 0x4 dewar wall temp                        \n",
       "HEADTEMP=              141.038 / [K] 0x5 cryo cooler cold head temp             \n",
       "CCD5TEMP=              175.312 / [K] 0x6 temp sensor on CCD05                   \n",
       "CCD11TEM=              176.263 / [K] 0x7 temp sensor on CCD11                   \n",
       "CCD0TEMP=              169.376 / [K] 0x8 temp sensor on CCD00                   \n",
       "RSTEMP  =              241.756 / [K] 0x9 temp sensor on radiation shield        \n",
       "DEWPRESS=                  2.3 / [milli-torr] Dewar pressure                    \n",
       "DETHEAT =                 28.5 / [%] Detector focal plane heater power          \n",
       "NAMPSXY = '6 2     '           / Number of amplifiers in x y                    \n",
       "CCDSUM  = '1 1     '           / [pix] Binning in x and y                       \n",
       "MODELFOC= 'N/A     '           / MODELFOC                                       \n",
       "EXPCKSUM= '4VHn7S9l4SEl4S9l'   / Primary header unit checksum                   \n",
       "EXPDTSUM= '         0'         / Primary data unit checksum                     \n",
       "GAIN    =                  1.5 / [e-/D.N.] Gain of detector.                    \n",
       "READNOI =                  5.2 / [e-] Read noise of detector.                   \n",
       "DARKCUR =                  0.1 / [e-/s] Dark current of detector                \n",
       "                                                                                \n",
       "          / SCAMP DISTORTION KEYWORDS                                           \n",
       "                                                                                \n",
       "RADECSYS= 'ICRS    '           / Astrometric system                             \n",
       "PV1_0   =                   0. / Projection distortion parameter                \n",
       "PV1_1   =                   1. / Projection distortion parameter                \n",
       "PV1_2   =                   0. / Projection distortion parameter                \n",
       "PV1_4   = -0.00173789497161513 / Projection distortion parameter                \n",
       "PV1_5   = 6.00083003595371E-05 / Projection distortion parameter                \n",
       "PV1_6   = -0.00054585707358405 / Projection distortion parameter                \n",
       "PV1_7   = -0.00133490210858131 / Projection distortion parameter                \n",
       "PV1_8   = 0.000173741003278833 / Projection distortion parameter                \n",
       "PV1_9   = -0.000547160675264968 / Projection distortion parameter               \n",
       "PV1_10  = 0.000251433351740168 / Projection distortion parameter                \n",
       "PV1_12  = -0.00328774077188989 / Projection distortion parameter                \n",
       "PV1_13  = -0.000280710215945655 / Projection distortion parameter               \n",
       "PV1_14  = 0.000714951620183291 / Projection distortion parameter                \n",
       "PV1_15  = -0.000275634808657675 / Projection distortion parameter               \n",
       "PV1_16  = 0.000192684172156633 / Projection distortion parameter                \n",
       "PV2_0   =                   0. / Projection distortion parameter                \n",
       "PV2_1   =                   1. / Projection distortion parameter                \n",
       "PV2_2   =                   0. / Projection distortion parameter                \n",
       "PV2_4   =  0.00025061777603867 / Projection distortion parameter                \n",
       "PV2_5   = -0.00125376481783182 / Projection distortion parameter                \n",
       "PV2_6   = -0.000118547045320473 / Projection distortion parameter               \n",
       "PV2_7   = -0.000709046387896288 / Projection distortion parameter               \n",
       "PV2_8   = 0.000780095509401425 / Projection distortion parameter                \n",
       "PV2_9   = -0.000924905030225836 / Projection distortion parameter               \n",
       "PV2_10  = -0.000525520061118934 / Projection distortion parameter               \n",
       "PV2_12  = -0.000283472622900895 / Projection distortion parameter               \n",
       "PV2_13  = 0.000738353372557653 / Projection distortion parameter                \n",
       "PV2_14  = 0.000164958172111789 / Projection distortion parameter                \n",
       "PV2_15  = -0.00144743155797026 / Projection distortion parameter                \n",
       "PV2_16  = -0.000422174086212961 / Projection distortion parameter               \n",
       "FGROUPNO=                    1 / SCAMP field group label                        \n",
       "ASTIRMS1=                   0. / Astrom. dispersion RMS (intern., high S/N)     \n",
       "ASTIRMS2=                   0. / Astrom. dispersion RMS (intern., high S/N)     \n",
       "ASTRRMS1=          2.60633E-05 / Astrom. dispersion RMS (ref., high S/N)        \n",
       "ASTRRMS2=         2.679676E-05 / Astrom. dispersion RMS (ref., high S/N)        \n",
       "ASTINST =                    1 / SCAMP astrometric instrument label             \n",
       "FLXSCALE=                   0. / SCAMP relative flux scale                      \n",
       "MAGZEROP=                   0. / SCAMP zero-point                               \n",
       "PHOTIRMS=                   0. / mag dispersion RMS (internal, high S/N)        \n",
       "RA_RMS  =            0.4284936 / [arcsec] RMS of SCAMP fit from 2MASS matching  \n",
       "DEC_RMS =            0.3289862 / [arcsec] RMS of SCAMP fit from 2MASS matching  \n",
       "ASTROMN =                 1003 / Number of stars in SCAMP astrometric solution  \n",
       "SCAMPPTH= '/ptf/pos/archive/fallbackcal/scamp/11/' / SCAMP catalog path         \n",
       "SCAMPFIL= 'PTF_201102044118_c_e_sdss_t095258_u003860515_f01_p003486_c11.fits'   \n",
       "                                                                                \n",
       "          / SIP DISTORTION KEYWORDS                                             \n",
       "                                                                                \n",
       "A_ORDER =                    4 / Distortion order for A                         \n",
       "A_0_2   = -1.53991686981733E-07 / Projection distortion parameter               \n",
       "A_0_3   = -1.9961153583439E-11 / Projection distortion parameter                \n",
       "A_0_4   = 4.28220501859733E-15 / Projection distortion parameter                \n",
       "A_1_1   = -1.48140435828959E-08 / Projection distortion parameter               \n",
       "A_1_2   = -4.37451084272745E-11 / Projection distortion parameter               \n",
       "A_1_3   = 6.11763923987906E-15 / Projection distortion parameter                \n",
       "A_2_0   = -4.87160559968282E-07 / Projection distortion parameter               \n",
       "A_2_1   = -1.27084757090404E-11 / Projection distortion parameter               \n",
       "A_2_2   = 1.57779409644097E-14 / Projection distortion parameter                \n",
       "A_3_0   = -1.04765134994984E-10 / Projection distortion parameter               \n",
       "A_3_1   = 7.95789862286398E-15 / Projection distortion parameter                \n",
       "A_4_0   = -7.23704568938464E-14 / Projection distortion parameter               \n",
       "A_DMAX  =     2.44291521352919 / Projection distortion parameter                \n",
       "B_ORDER =                    4 / Distortion order for B                         \n",
       "B_0_2   = -6.7373693835656E-08 / Projection distortion parameter                \n",
       "B_0_3   = -5.54765729401967E-11 / Projection distortion parameter               \n",
       "B_0_4   = 6.16120047283346E-15 / Projection distortion parameter                \n",
       "B_1_1   = -3.5264356557202E-07 / Projection distortion parameter                \n",
       "B_1_2   = -6.12610617364653E-11 / Projection distortion parameter               \n",
       "B_1_3   = 1.64880764414739E-14 / Projection distortion parameter                \n",
       "B_2_0   = 3.39463080480267E-08 / Projection distortion parameter                \n",
       "B_2_1   = -7.40973776817625E-11 / Projection distortion parameter               \n",
       "B_2_2   = -2.8629870353495E-15 / Projection distortion parameter                \n",
       "B_3_0   = 4.14105136847929E-11 / Projection distortion parameter                \n",
       "B_3_1   = -3.22124747225646E-14 / Projection distortion parameter               \n",
       "B_4_0   = 9.51825972208521E-15 / Projection distortion parameter                \n",
       "B_DMAX  =     2.95057287643024 / Projection distortion parameter                \n",
       "AP_ORDER=                    4 / Distortion order for AP                        \n",
       "AP_0_1  = 2.05105623663409E-08 / Projection distortion parameter                \n",
       "AP_0_2  = 1.54047990787523E-07 / Projection distortion parameter                \n",
       "AP_0_3  = 1.99841723199859E-11 / Projection distortion parameter                \n",
       "AP_0_4  = -4.27260819246964E-15 / Projection distortion parameter               \n",
       "AP_1_0  = -7.88989114580002E-08 / Projection distortion parameter               \n",
       "AP_1_1  = 1.49024754213322E-08 / Projection distortion parameter                \n",
       "AP_1_2  = 4.39773302986539E-11 / Projection distortion parameter                \n",
       "AP_1_3  = -6.1078457561122E-15 / Projection distortion parameter                \n",
       "AP_2_0  = 4.87351326761802E-07 / Projection distortion parameter                \n",
       "AP_2_1  = 1.27034030399091E-11 / Projection distortion parameter                \n",
       "AP_2_2  = -1.56781266527055E-14 / Projection distortion parameter               \n",
       "AP_3_0  = 1.05609755183277E-10 / Projection distortion parameter                \n",
       "AP_3_1  = -7.88269146660008E-15 / Projection distortion parameter               \n",
       "AP_4_0  =  7.2479268759029E-14 / Projection distortion parameter                \n",
       "BP_ORDER=                    4 / Distortion order for BP                        \n",
       "BP_0_1  = -3.61828763934933E-08 / Projection distortion parameter               \n",
       "BP_0_2  = 6.74317721340757E-08 / Projection distortion parameter                \n",
       "BP_0_3  = 5.55651238033361E-11 / Projection distortion parameter                \n",
       "BP_0_4  = -6.14956183405539E-15 / Projection distortion parameter               \n",
       "BP_1_0  = -5.01841161647254E-08 / Projection distortion parameter               \n",
       "BP_1_1  = 3.52809293826258E-07 / Projection distortion parameter                \n",
       "BP_1_2  = 6.13665672637537E-11 / Projection distortion parameter                \n",
       "BP_1_3  = -1.64300062518365E-14 / Projection distortion parameter               \n",
       "BP_2_0  = -3.4054112344702E-08 / Projection distortion parameter                \n",
       "BP_2_1  = 7.45298070253847E-11 / Projection distortion parameter                \n",
       "BP_2_2  = 2.92717865788252E-15 / Projection distortion parameter                \n",
       "BP_3_0  = -4.14183265768535E-11 / Projection distortion parameter               \n",
       "BP_3_1  = 3.23323470749901E-14 / Projection distortion parameter                \n",
       "BP_4_0  = -9.48831790286268E-15 / Projection distortion parameter               \n",
       "                                                                                \n",
       "          / DATA FLOW                                                           \n",
       "                                                                                \n",
       "ORIGNAME= '/data/PTF_default_56753.fits' / Filename as written by the camera    \n",
       "FILENAME= 'PTF201307021787_2_o_56753.fits' / Filename of delivered camera image \n",
       "PROCORIG= 'IPAC-PTF pipelines' / Processing origin                              \n",
       "PROCDATE= 'Wed Jul  3 19:07:12 2013' / Processing date/time (Pacific time)      \n",
       "PTFVERSN=                   5. / Version of PTFSCIENCEPIPELINE program          \n",
       "PMASKPTH= '/ptf/pos/archive/fallbackcal/pmasks/' / Pathname of pixel mask       \n",
       "PMASKFIL= '70sOn35s_pixmask_chip11.trimmed.v4.fits' / Filename of pixel mask    \n",
       "SFLATPTH= '/ptf/pos/sbx2/2013/07/02/f2/c11/cal/p4/cId98684/' / Pathname of super\n",
       "SFLATFIL= 'PTF_201307020000_i_s_flat_t120000_u000098684_f02_p000000_c11.fits'   \n",
       "SBIASPTH= '/ptf/pos/sbx2/2013/07/02/f2/c11/cal/p1/cId98678/' / Pathname of super\n",
       "SBIASFIL= 'PTF_201307020000_i_s_bias_t120000_u000098678_f00_p000000_c11.fits'   \n",
       "DBNID   =                 1550 / Database night ID                              \n",
       "DBEXPID =               342625 / Database exposure ID                           \n",
       "DBRID   =              5743856 / Database raw-image ID                          \n",
       "DBPID   =             16616794 / Database processed-image ID                    \n",
       "DBFID   =                    2 / Database filter ID                             \n",
       "DBPIID  =                    1 / Database P.I. ID                               \n",
       "DBPRID  =                   17 / Database project ID                            \n",
       "DBFIELD =               342625 / Database field ID                              \n",
       "DBSVID  =                   51 / Database software-version ID                   \n",
       "DBCVID  =                   57 / Database config-data-file ID                   \n",
       "INFOBITS=                    0 / Database infobits (2^2 and 2^3 excluded)       "
      ]
     },
     "execution_count": 98,
     "metadata": {},
     "output_type": "execute_result"
    }
   ],
   "source": [
    "hdu.header"
   ]
  },
  {
   "cell_type": "markdown",
   "metadata": {},
   "source": [
    "Now let's plot the image data. But let's use sigma-clipping to pick a nice scale for the image."
   ]
  },
  {
   "cell_type": "code",
   "execution_count": 100,
   "metadata": {},
   "outputs": [],
   "source": [
    "mean, median, std = astropy.stats.sigma_clipped_stats(hdu.data)"
   ]
  },
  {
   "cell_type": "code",
   "execution_count": 101,
   "metadata": {},
   "outputs": [
    {
     "data": {
      "application/vnd.jupyter.widget-view+json": {
       "model_id": "8e50948459044928916f3705b8b8789e",
       "version_major": 2,
       "version_minor": 0
      },
      "text/plain": [
       "Canvas(toolbar=Toolbar(toolitems=[('Home', 'Reset original view', 'home', 'home'), ('Back', 'Back to previous …"
      ]
     },
     "metadata": {},
     "output_type": "display_data"
    },
    {
     "data": {
      "text/plain": [
       "Text(0, 0.5, 'pixel $y$')"
      ]
     },
     "execution_count": 101,
     "metadata": {},
     "output_type": "execute_result"
    }
   ],
   "source": [
    "plt.figure(figsize=(20, 10))\n",
    "plt.imshow(hdu.data, vmin=mean-std, vmax=mean+3*std, cmap='binary')\n",
    "plt.xlabel('pixel $x$')\n",
    "plt.ylabel('pixel $y$')"
   ]
  },
  {
   "cell_type": "markdown",
   "metadata": {},
   "source": [
    "I happen to know that there is something interesting to look at near $\\mathrm{RA, Dec}=14^\\mathrm{h}29^{m}14.781^{s}, +15^\\circ46^\\prime26.385^{\\prime\\prime}$. Let's open the catalog file from IPAC and find this object."
   ]
  },
  {
   "cell_type": "code",
   "execution_count": 103,
   "metadata": {},
   "outputs": [
    {
     "data": {
      "text/html": [
       "<i>Table length=3677</i>\n",
       "<table id=\"table73616120528\" class=\"table-striped table-bordered table-condensed\">\n",
       "<thead><tr><th>NUMBER</th><th>FLAGS</th><th>XWIN_IMAGE</th><th>YWIN_IMAGE</th><th>X_WORLD</th><th>Y_WORLD</th><th>XPEAK_IMAGE</th><th>YPEAK_IMAGE</th><th>ERRTHETAWIN_IMAGE</th><th>DELTAWIN_J2000</th><th>X2WIN_IMAGE</th><th>Y2WIN_IMAGE</th><th>XYWIN_IMAGE</th><th>AWIN_WORLD</th><th>BWIN_WORLD</th><th>MAG_ISO</th><th>MAGERR_ISO</th><th>MAG_AUTO</th><th>MAGERR_AUTO</th><th>MAG_ISOCOR</th><th>MAGERR_ISOCOR</th><th>MAG_APER [5]</th><th>MAGERR_APER [5]</th><th>MAG_PETRO</th><th>MAGERR_PETRO</th><th>MAG_BEST</th><th>MAGERR_BEST</th><th>MU_THRESHOLD</th><th>MU_MAX</th><th>BACKGROUND</th><th>THRESHOLD</th><th>ALPHAWIN_J2000</th><th>THETAWIN_IMAGE</th><th>THETAWIN_J2000</th><th>ELONGATION</th><th>ISOAREA_WORLD</th><th>ISOAREAF_WORLD</th><th>ISO0</th><th>ISO1</th><th>ISO2</th><th>ISO3</th><th>ISO4</th><th>ISO5</th><th>ISO6</th><th>ISO7</th><th>FWHM_IMAGE</th><th>KRON_RADIUS</th><th>PETRO_RADIUS</th><th>CLASS_STAR</th><th>FLUX_BEST</th><th>FLUXERR_BEST</th><th>FLUX_AUTO</th><th>FLUXERR_AUTO</th><th>FLUX_ISO</th><th>FLUXERR_ISO</th><th>FLUX_APER [5]</th><th>FLUXERR_APER [5]</th><th>X_IMAGE</th><th>Y_IMAGE</th><th>X2_IMAGE</th><th>Y2_IMAGE</th><th>XY_IMAGE</th><th>THETA_IMAGE</th><th>ERRAWIN_IMAGE</th><th>ERRBWIN_IMAGE</th><th>THETAWIN_WORLD</th><th>ERRX2WIN_IMAGE</th><th>ERRY2WIN_IMAGE</th><th>ERRXYWIN_IMAGE</th><th>FLUX_RADIUS [5]</th><th>IMAFLAGS_ISO</th><th>NIMAFLAGS_ISO</th><th>ERRAWIN_WORLD</th><th>ERRBWIN_WORLD</th><th>ERRTHETAWIN_WORLD</th><th>A_IMAGE</th><th>ERRA_IMAGE</th><th>B_IMAGE</th><th>ERRB_IMAGE</th><th>A_WORLD</th><th>ERRA_WORLD</th><th>B_WORLD</th><th>ERRB_WORLD</th><th>ERRTHETA_IMAGE</th><th>ERRX2_IMAGE</th><th>ERRY2_IMAGE</th><th>ERRXY_IMAGE</th><th>AWIN_IMAGE</th><th>BWIN_IMAGE</th><th>FLUX_PETRO</th><th>FLUXERR_PETRO</th><th>ZEROPOINT</th></tr></thead>\n",
       "<thead><tr><th></th><th></th><th>pix</th><th>pix</th><th>deg</th><th>deg</th><th>pix</th><th>pix</th><th>deg</th><th>deg</th><th>pix2</th><th>pix2</th><th>pix2</th><th>deg</th><th>deg</th><th>mag</th><th>mag</th><th>mag</th><th>mag</th><th>mag</th><th>mag</th><th>mag</th><th>mag</th><th>mag</th><th>mag</th><th>mag</th><th>mag</th><th>mag / arcsec2</th><th>mag / arcsec2</th><th>ct</th><th>ct</th><th>deg</th><th>deg</th><th>deg</th><th></th><th>deg2</th><th>deg2</th><th>pix2</th><th>pix2</th><th>pix2</th><th>pix2</th><th>pix2</th><th>pix2</th><th>pix2</th><th>pix2</th><th>pix</th><th></th><th></th><th></th><th>ct</th><th>ct</th><th>ct</th><th>ct</th><th>ct</th><th>ct</th><th>ct</th><th>ct</th><th>pix</th><th>pix</th><th>pix2</th><th>pix2</th><th>pix2</th><th>deg</th><th>pix</th><th>pix</th><th>deg</th><th>pix2</th><th>pix2</th><th>pix2</th><th>pix</th><th></th><th></th><th>deg</th><th>deg</th><th>deg</th><th>pix</th><th>pix</th><th>pix</th><th>pix</th><th>deg</th><th>deg</th><th>deg</th><th>deg</th><th>deg</th><th>pix2</th><th>pix2</th><th>pix2</th><th>pix</th><th>pix</th><th>ct</th><th>ct</th><th></th></tr></thead>\n",
       "<thead><tr><th>int32</th><th>int16</th><th>float64</th><th>float64</th><th>float64</th><th>float64</th><th>int32</th><th>int32</th><th>float32</th><th>float64</th><th>float64</th><th>float64</th><th>float64</th><th>float32</th><th>float32</th><th>float32</th><th>float32</th><th>float32</th><th>float32</th><th>float32</th><th>float32</th><th>float32</th><th>float32</th><th>float32</th><th>float32</th><th>float32</th><th>float32</th><th>float32</th><th>float32</th><th>float32</th><th>float32</th><th>float64</th><th>float32</th><th>float32</th><th>float32</th><th>float32</th><th>float32</th><th>int32</th><th>int32</th><th>int32</th><th>int32</th><th>int32</th><th>int32</th><th>int32</th><th>int32</th><th>float32</th><th>float32</th><th>float32</th><th>float32</th><th>float32</th><th>float32</th><th>float32</th><th>float32</th><th>float32</th><th>float32</th><th>float32</th><th>float32</th><th>float32</th><th>float32</th><th>float64</th><th>float64</th><th>float64</th><th>float32</th><th>float32</th><th>float32</th><th>float32</th><th>float64</th><th>float64</th><th>float64</th><th>float32</th><th>int32</th><th>int32</th><th>float32</th><th>float32</th><th>float32</th><th>float32</th><th>float32</th><th>float32</th><th>float32</th><th>float32</th><th>float32</th><th>float32</th><th>float32</th><th>float32</th><th>float64</th><th>float64</th><th>float64</th><th>float32</th><th>float32</th><th>float32</th><th>float32</th><th>float32</th></tr></thead>\n",
       "<tr><td>1</td><td>28</td><td>2043.074</td><td>214.094</td><td>2.1746988032e+02</td><td>1.6768041142e+01</td><td>2043</td><td>212</td><td>87.4</td><td>16.7682110</td><td>5.6769986187e+00</td><td>1.6965502946e+01</td><td>6.5196985681e-02</td><td>0.001157005</td><td>0.0006676022</td><td>-17.5135</td><td>0.0003</td><td>-17.4988</td><td>0.0003</td><td>-17.5144</td><td>0.0003</td><td>-13.2036 .. -16.4910</td><td>0.0033 ..   0.0005</td><td>-17.5118</td><td>0.0003</td><td>-17.4988</td><td>0.0003</td><td>-4.0448</td><td>-11.9232</td><td>1316.305</td><td>38.65126</td><td>217.4699923</td><td>89.7</td><td>0.06</td><td>4.558</td><td>8.099405e-05</td><td>8.729097e-05</td><td>1029</td><td>717</td><td>465</td><td>304</td><td>237</td><td>203</td><td>178</td><td>167</td><td>29.24</td><td>2.50</td><td>5.28</td><td>0.71</td><td>9989354</td><td>2799.243</td><td>9989354</td><td>2799.243</td><td>1.012528e+07</td><td>2911.335</td><td>191172.9 ..      3948118</td><td>584.841 ..     1915.655</td><td>2042.695</td><td>214.701</td><td>5.2066121064e+00</td><td>1.0815026130e+02</td><td>-5.6963231037e-02</td><td>-90.0</td><td>0.0011</td><td>0.0009</td><td>89.9</td><td>7.4104895621e-07</td><td>1.1675932674e-06</td><td>1.9696284927e-08</td><td>3.719 ..     22.713</td><td>962</td><td>947</td><td>3.03627e-07</td><td>2.410763e-07</td><td>-87.8</td><td>10.400</td><td>0.0034</td><td>2.282</td><td>0.0010</td><td>0.002921241</td><td>9.450149e-07</td><td>0.0006393165</td><td>2.804898e-07</td><td>89.7</td><td>1.0020437010e-06</td><td>1.1318135079e-05</td><td>5.4623076615e-08</td><td>4.119</td><td>2.383</td><td>1.010962e+07</td><td>2991.671</td><td>27.846247</td></tr>\n",
       "<tr><td>2</td><td>4</td><td>65.380</td><td>121.919</td><td>2.1689073057e+02</td><td>1.6797018546e+01</td><td>66</td><td>122</td><td>-89.0</td><td>16.7970191</td><td>1.3250237361e+00</td><td>2.1440943129e+00</td><td>-9.7237642208e-03</td><td>0.0004115421</td><td>0.0003232088</td><td>-15.5504</td><td>0.0008</td><td>-15.5137</td><td>0.0007</td><td>-15.5526</td><td>0.0008</td><td>-13.1979 .. -15.5172</td><td>0.0034 ..   0.0007</td><td>-15.5396</td><td>0.0007</td><td>-15.5137</td><td>0.0007</td><td>-3.9759</td><td>-11.9204</td><td>1302.128</td><td>42.14668</td><td>216.8907428</td><td>-89.3</td><td>0.92</td><td>1.374</td><td>2.684059e-05</td><td>3.164199e-05</td><td>348</td><td>234</td><td>135</td><td>86</td><td>56</td><td>42</td><td>32</td><td>25</td><td>2.17</td><td>2.50</td><td>3.96</td><td>0.99</td><td>1605065</td><td>1061.007</td><td>1605065</td><td>1061.007</td><td>1660124</td><td>1192.634</td><td>190185.4 ..      1610221</td><td>589.9341 ..     1068.229</td><td>65.338</td><td>121.922</td><td>2.8985469346e+00</td><td>5.4736777658e+00</td><td>-2.9297647083e-02</td><td>-89.3</td><td>0.0009</td><td>0.0008</td><td>89.1</td><td>6.1528742993e-07</td><td>7.8340161585e-07</td><td>-2.8935308061e-09</td><td>1.477 ..      4.477</td><td>258</td><td>301</td><td>2.487633e-07</td><td>2.202488e-07</td><td>88.8</td><td>2.340</td><td>0.0028</td><td>1.702</td><td>0.0021</td><td>0.0006575582</td><td>7.742271e-07</td><td>0.0004780277</td><td>5.778505e-07</td><td>89.7</td><td>4.2348475924e-06</td><td>7.5889872594e-06</td><td>1.8240460563e-08</td><td>1.464</td><td>1.151</td><td>1643842</td><td>1118.459</td><td>27.824438</td></tr>\n",
       "<tr><td>3</td><td>0</td><td>983.166</td><td>38.558</td><td>2.1715994445e+02</td><td>1.6819311393e+01</td><td>983</td><td>39</td><td>55.3</td><td>16.8192926</td><td>1.1139941515e+00</td><td>1.1306721510e+00</td><td>4.0566587761e-02</td><td>0.0003028937</td><td>0.0002918463</td><td>-11.0397</td><td>0.0146</td><td>-10.9770</td><td>0.0141</td><td>-11.1272</td><td>0.0167</td><td>-9.3016 .. -10.9005</td><td>0.0196 ..   0.0132</td><td>-11.3312</td><td>0.0257</td><td>-10.9770</td><td>0.0141</td><td>-4.0448</td><td>-8.2182</td><td>1296.623</td><td>41.99482</td><td>217.1599069</td><td>50.8</td><td>-37.72</td><td>1.179</td><td>8.894391e-06</td><td>1.054733e-05</td><td>113</td><td>83</td><td>49</td><td>29</td><td>20</td><td>14</td><td>7</td><td>4</td><td>2.74</td><td>2.70</td><td>7.26</td><td>0.03</td><td>24591.92</td><td>319.0636</td><td>24591.92</td><td>319.0636</td><td>26055.44</td><td>349.9035</td><td>5255.96 ..     22919.04</td><td>95.0915 ..     278.9724</td><td>983.294</td><td>38.491</td><td>4.4003347820e+00</td><td>5.3312111907e+00</td><td>6.4142420463e-01</td><td>63.0</td><td>0.0098</td><td>0.0097</td><td>-52.3</td><td>9.5226090170e-05</td><td>9.5668119409e-05</td><td>5.8885196793e-07</td><td>1.121 ..      5.774</td><td>2</td><td>92</td><td>2.752732e-06</td><td>2.732792e-06</td><td>-62.0</td><td>2.379</td><td>0.0490</td><td>2.018</td><td>0.0393</td><td>0.0006680026</td><td>1.376218e-05</td><td>0.0005664813</td><td>1.10276e-05</td><td>64.0</td><td>1.7084132417e-03</td><td>2.2366507334e-03</td><td>3.3831831693e-04</td><td>1.079</td><td>1.040</td><td>34078.66</td><td>806.3724</td><td>27.827711</td></tr>\n",
       "<tr><td>4</td><td>24</td><td>347.435</td><td>11.880</td><td>2.1697360841e+02</td><td>1.6827481128e+01</td><td>347</td><td>12</td><td>16.6</td><td>16.8276240</td><td>1.0355505696e+01</td><td>9.4271396643e+00</td><td>6.2975688637e-01</td><td>0.0009172358</td><td>0.0008479064</td><td>-12.4540</td><td>0.0077</td><td>-12.4115</td><td>0.0076</td><td>-12.5334</td><td>0.0085</td><td>-8.9267 .. -11.5708</td><td>0.0262 ..   0.0079</td><td>-12.4740</td><td>0.0142</td><td>-12.4115</td><td>0.0076</td><td>-4.0448</td><td>-7.8515</td><td>1296.039</td><td>38.57433</td><td>216.9735960</td><td>26.8</td><td>-62.70</td><td>1.250</td><td>3.667952e-05</td><td>3.959184e-05</td><td>466</td><td>397</td><td>296</td><td>189</td><td>124</td><td>69</td><td>22</td><td>7</td><td>8.31</td><td>2.50</td><td>5.94</td><td>0.02</td><td>92170.45</td><td>644.9402</td><td>92170.45</td><td>644.9402</td><td>95853.72</td><td>682.3517</td><td>3721.011 ..     42494.74</td><td>89.64857 ..     309.8721</td><td>347.479</td><td>12.388</td><td>2.5359695764e+01</td><td>2.0887850756e+01</td><td>4.5488104494e+00</td><td>31.9</td><td>0.0176</td><td>0.0174</td><td>-27.3</td><td>3.0953533623e-04</td><td>3.0234345647e-04</td><td>2.3611621748e-06</td><td>3.193 ..     11.880</td><td>2</td><td>453</td><td>4.944153e-06</td><td>4.880243e-06</td><td>-18.1</td><td>5.310</td><td>0.0507</td><td>4.249</td><td>0.0396</td><td>0.001490945</td><td>1.425063e-05</td><td>0.00119348</td><td>1.112322e-05</td><td>33.0</td><td>2.2771986388e-03</td><td>1.8666918714e-03</td><td>4.5979305959e-04</td><td>3.267</td><td>3.018</td><td>97637.42</td><td>1273.242</td><td>27.829847</td></tr>\n",
       "<tr><td>5</td><td>0</td><td>1419.644</td><td>16.543</td><td>2.1728782282e+02</td><td>1.6824814907e+01</td><td>1420</td><td>17</td><td>52.9</td><td>16.8248090</td><td>4.4178439291e-01</td><td>4.3311540951e-01</td><td>7.1139474826e-03</td><td>0.0001873106</td><td>0.0001839508</td><td>-13.3029</td><td>0.0024</td><td>-13.2559</td><td>0.0022</td><td>-13.3075</td><td>0.0025</td><td>-12.3278 .. -13.2972</td><td>0.0040 ..   0.0023</td><td>-13.2995</td><td>0.0024</td><td>-13.2559</td><td>0.0022</td><td>-4.0448</td><td>-11.2156</td><td>1298.333</td><td>42.10085</td><td>217.2878236</td><td>29.3</td><td>-57.81</td><td>1.011</td><td>6.926605e-06</td><td>7.792431e-06</td><td>88</td><td>67</td><td>46</td><td>32</td><td>23</td><td>15</td><td>11</td><td>4</td><td>1.98</td><td>2.50</td><td>3.96</td><td>0.98</td><td>200614.2</td><td>397.3951</td><td>200614.2</td><td>397.3951</td><td>209490.2</td><td>465.5554</td><td>85333.2 ..     208391.3</td><td>312.4908 ..     447.7514</td><td>1419.642</td><td>16.522</td><td>1.7794715373e+00</td><td>1.7409274455e+00</td><td>-1.8805991238e-03</td><td>-2.8</td><td>0.0014</td><td>0.0014</td><td>-32.2</td><td>1.8508188539e-06</td><td>1.8686180321e-06</td><td>3.1349550057e-08</td><td>0.764 ..      3.082</td><td>2</td><td>87</td><td>3.862136e-07</td><td>3.79287e-07</td><td>-56.2</td><td>1.334</td><td>0.0045</td><td>1.319</td><td>0.0045</td><td>0.0003740543</td><td>1.255708e-06</td><td>0.0003706939</td><td>1.250092e-06</td><td>49.4</td><td>1.9914545968e-05</td><td>1.9937354494e-05</td><td>7.4353676281e-08</td><td>0.668</td><td>0.655</td><td>208834.9</td><td>453.9077</td><td>27.834558</td></tr>\n",
       "<tr><td>6</td><td>0</td><td>514.564</td><td>10.706</td><td>2.1702260024e+02</td><td>1.6827724383e+01</td><td>514</td><td>11</td><td>-62.4</td><td>16.8277498</td><td>5.9142447503e-01</td><td>6.5556088470e-01</td><td>-1.0051526135e-01</td><td>0.0002398509</td><td>0.0002020227</td><td>-7.2930</td><td>0.1261</td><td>-7.6631</td><td>0.1285</td><td>-7.7533</td><td>0.1569</td><td>-6.4307 ..  -7.9112</td><td>0.1572 ..   0.1874</td><td>-7.6528</td><td>0.1402</td><td>-7.6631</td><td>0.1285</td><td>-4.0448</td><td>-5.5531</td><td>1294.74</td><td>42.08438</td><td>217.0225999</td><td>-53.8</td><td>36.08</td><td>1.433</td><td>6.296913e-07</td><td>8.658256e-07</td><td>8</td><td>6</td><td>6</td><td>6</td><td>5</td><td>3</td><td>2</td><td>2</td><td>2.93</td><td>3.23</td><td>3.50</td><td>0.57</td><td>1162.136</td><td>137.5369</td><td>1162.136</td><td>137.5369</td><td>826.4187</td><td>95.98862</td><td>373.4989 ..     1460.421</td><td>54.04912 ..     251.9493</td><td>514.565</td><td>10.796</td><td>7.9410111742e-01</td><td>7.4420238692e-01</td><td>-2.6412677874e-01</td><td>-42.3</td><td>0.0833</td><td>0.0828</td><td>53.9</td><td>6.8785857821e-03</td><td>6.9232021883e-03</td><td>-3.1993471041e-05</td><td>0.880 ..      2.906</td><td>2</td><td>7</td><td>2.340519e-05</td><td>2.325019e-05</td><td>66.9</td><td>1.017</td><td>0.1498</td><td>0.710</td><td>0.0997</td><td>0.000285593</td><td>4.205139e-05</td><td>0.0001993489</td><td>2.79971e-05</td><td>-41.1</td><td>1.7033715173e-02</td><td>1.5332180723e-02</td><td>-6.1888949186e-03</td><td>0.854</td><td>0.720</td><td>1151.076</td><td>148.5741</td><td>27.824036</td></tr>\n",
       "<tr><td>7</td><td>16</td><td>681.212</td><td>6.826</td><td>2.1707146999e+02</td><td>1.6828635858e+01</td><td>681</td><td>7</td><td>6.9</td><td>16.8286256</td><td>4.4507014800e-01</td><td>4.3518368289e-01</td><td>3.2035187791e-03</td><td>0.0001874013</td><td>0.0001851478</td><td>-11.2204</td><td>0.0085</td><td>-11.1853</td><td>0.0075</td><td>-11.2380</td><td>0.0089</td><td>-10.2205 .. -11.2299</td><td>0.0119 ..   0.0101</td><td>-11.2353</td><td>0.0110</td><td>-11.1853</td><td>0.0075</td><td>-4.0448</td><td>-9.3773</td><td>1297.529</td><td>42.13911</td><td>217.0714577</td><td>16.5</td><td>-71.57</td><td>1.027</td><td>3.069745e-06</td><td>3.778148e-06</td><td>39</td><td>31</td><td>24</td><td>18</td><td>13</td><td>9</td><td>6</td><td>3</td><td>1.88</td><td>2.50</td><td>4.62</td><td>0.98</td><td>29792.91</td><td>206.5918</td><td>29792.91</td><td>206.5918</td><td>30771.28</td><td>241.5911</td><td>12251.4 ..     31041.84</td><td>134.256 ..     288.1205</td><td>681.254</td><td>6.789</td><td>1.5324851307e+00</td><td>1.4617770069e+00</td><td>-1.9257480957e-02</td><td>-14.3</td><td>0.0041</td><td>0.0040</td><td>-18.4</td><td>1.6616793079e-05</td><td>1.6305715315e-05</td><td>3.8301279627e-08</td><td>0.695 ..      2.958</td><td>2</td><td>45</td><td>1.143899e-06</td><td>1.134507e-06</td><td>-8.1</td><td>1.240</td><td>0.0143</td><td>1.207</td><td>0.0134</td><td>0.0003479222</td><td>4.016769e-06</td><td>0.0003391354</td><td>3.754562e-06</td><td>-15.3</td><td>2.0308719233e-04</td><td>1.8039068319e-04</td><td>-6.7193523572e-06</td><td>0.668</td><td>0.659</td><td>31196.84</td><td>314.963</td><td>27.82548</td></tr>\n",
       "<tr><td>8</td><td>17</td><td>1702.202</td><td>3.995</td><td>2.1737056495e+02</td><td>1.6827823624e+01</td><td>1702</td><td>4</td><td>-88.3</td><td>16.8278556</td><td>3.9485783164e-01</td><td>5.0578787752e-01</td><td>-1.8279240727e-02</td><td>0.0002003851</td><td>0.0001754766</td><td>-7.4613</td><td>0.1046</td><td>-7.4852</td><td>0.1071</td><td>-7.7460</td><td>0.1312</td><td>-6.6235 ..  -7.8658</td><td>0.1366 ..   0.1884</td><td>-8.0994</td><td>0.1722</td><td>-7.7460</td><td>0.1312</td><td>-4.0448</td><td>-5.6556</td><td>1296.546</td><td>42.34091</td><td>217.3706056</td><td>-80.9</td><td>9.30</td><td>1.205</td><td>7.084028e-07</td><td>7.871142e-07</td><td>9</td><td>8</td><td>7</td><td>4</td><td>4</td><td>4</td><td>4</td><td>1</td><td>2.31</td><td>2.50</td><td>7.26</td><td>0.02</td><td>1254.308</td><td>151.5553</td><td>986.4572</td><td>97.26327</td><td>964.9769</td><td>92.93609</td><td>446.0672 ..     1400.677</td><td>56.11121 ..     243.0224</td><td>1702.064</td><td>4.110</td><td>5.4506024457e-01</td><td>7.8801548301e-01</td><td>-1.7972054473e-02</td><td>-85.8</td><td>0.0611</td><td>0.0608</td><td>80.7</td><td>3.7027137114e-03</td><td>3.7375703017e-03</td><td>-1.0604899876e-06</td><td>0.689 ..      1.909</td><td>2</td><td>8</td><td>1.717515e-05</td><td>1.705734e-05</td><td>88.6</td><td>0.888</td><td>0.1128</td><td>0.737</td><td>0.0893</td><td>0.0002496091</td><td>3.168354e-05</td><td>0.0002066852</td><td>2.503702e-05</td><td>-89.0</td><td>7.9794737455e-03</td><td>1.2717063303e-02</td><td>-8.6559355843e-05</td><td>0.713</td><td>0.626</td><td>1736.771</td><td>275.431</td><td>27.84032</td></tr>\n",
       "<tr><td>9</td><td>16</td><td>1462.955</td><td>4.041</td><td>2.1730049055e+02</td><td>1.6828159935e+01</td><td>1463</td><td>4</td><td>-7.0</td><td>16.8282504</td><td>4.3208523858e-01</td><td>3.0241714646e-01</td><td>-5.3747741519e-02</td><td>0.0001883899</td><td>0.0001494983</td><td>-6.2974</td><td>0.2121</td><td>-6.2974</td><td>0.2121</td><td>-6.9074</td><td>0.2528</td><td>-5.8143 ..  -3.9690</td><td>0.2687 ..   6.8096</td><td>-4.6870</td><td>2.9836</td><td>-6.2974</td><td>0.2121</td><td>-4.0448</td><td>-4.9818</td><td>1298.299</td><td>42.09095</td><td>217.3005322</td><td>-19.8</td><td>70.28</td><td>1.688</td><td>3.148457e-07</td><td>3.935571e-07</td><td>4</td><td>4</td><td>4</td><td>3</td><td>3</td><td>2</td><td>1</td><td>1</td><td>3.37</td><td>2.50</td><td>7.26</td><td>0.19</td><td>330.3375</td><td>64.52986</td><td>330.3375</td><td>64.52986</td><td>330.3375</td><td>64.52986</td><td>211.7029 ..     38.69083</td><td>52.38777 ..     242.6062</td><td>1462.815</td><td>4.364</td><td>5.1806758222e-01</td><td>2.3159829416e-01</td><td>-1.0915492893e-01</td><td>-18.7</td><td>0.1028</td><td>0.1019</td><td>19.7</td><td>1.0560099709e-02</td><td>1.0381090241e-02</td><td>-2.2266092367e-05</td><td>0.610 ..      1.299</td><td>0</td><td>0</td><td>2.881802e-05</td><td>2.862082e-05</td><td>8.8</td><td>0.745</td><td>0.2015</td><td>0.441</td><td>0.1166</td><td>0.0002088159</td><td>5.649244e-05</td><td>0.0001241215</td><td>3.281079e-05</td><td>-18.5</td><td>3.7883472443e-02</td><td>1.6338130602e-02</td><td>-8.1444611907e-03</td><td>0.672</td><td>0.532</td><td>74.95251</td><td>205.9214</td><td>27.834024</td></tr>\n",
       "<tr><td>...</td><td>...</td><td>...</td><td>...</td><td>...</td><td>...</td><td>...</td><td>...</td><td>...</td><td>...</td><td>...</td><td>...</td><td>...</td><td>...</td><td>...</td><td>...</td><td>...</td><td>...</td><td>...</td><td>...</td><td>...</td><td>...</td><td>...</td><td>...</td><td>...</td><td>...</td><td>...</td><td>...</td><td>...</td><td>...</td><td>...</td><td>...</td><td>...</td><td>...</td><td>...</td><td>...</td><td>...</td><td>...</td><td>...</td><td>...</td><td>...</td><td>...</td><td>...</td><td>...</td><td>...</td><td>...</td><td>...</td><td>...</td><td>...</td><td>...</td><td>...</td><td>...</td><td>...</td><td>...</td><td>...</td><td>...</td><td>...</td><td>...</td><td>...</td><td>...</td><td>...</td><td>...</td><td>...</td><td>...</td><td>...</td><td>...</td><td>...</td><td>...</td><td>...</td><td>...</td><td>...</td><td>...</td><td>...</td><td>...</td><td>...</td><td>...</td><td>...</td><td>...</td><td>...</td><td>...</td><td>...</td><td>...</td><td>...</td><td>...</td><td>...</td><td>...</td><td>...</td><td>...</td><td>...</td><td>...</td><td>...</td><td>...</td></tr>\n",
       "<tr><td>3668</td><td>0</td><td>633.149</td><td>3001.570</td><td>2.1705290781e+02</td><td>1.5987372267e+01</td><td>633</td><td>3002</td><td>88.0</td><td>15.9873833</td><td>3.1695085312e-01</td><td>3.1255683988e-01</td><td>1.4692101828e-02</td><td>0.0001609568</td><td>0.0001538191</td><td>-6.4416</td><td>0.1860</td><td>-6.4450</td><td>0.2178</td><td>-6.8966</td><td>0.2317</td><td>-5.9800 ..  -6.9440</td><td>0.2301 ..   0.4540</td><td>-6.9982</td><td>0.2588</td><td>-6.4450</td><td>0.2178</td><td>-4.0524</td><td>-5.0998</td><td>1314.179</td><td>42.02858</td><td>217.0529009</td><td>40.7</td><td>-48.82</td><td>1.614</td><td>3.935571e-07</td><td>3.935571e-07</td><td>5</td><td>4</td><td>3</td><td>3</td><td>3</td><td>2</td><td>2</td><td>1</td><td>2.35</td><td>2.72</td><td>5.28</td><td>0.52</td><td>378.4565</td><td>75.90158</td><td>378.4565</td><td>75.90158</td><td>377.2543</td><td>64.59866</td><td>246.6039 ..     599.2498</td><td>52.23959 ..     250.5046</td><td>633.173</td><td>3001.609</td><td>4.9827473314e-01</td><td>2.3816529236e-01</td><td>-9.9857172373e-02</td><td>-18.8</td><td>0.1009</td><td>0.0940</td><td>-41.2</td><td>8.8338777886e-03</td><td>1.0188009690e-02</td><td>4.8218427149e-05</td><td>0.590 ..      1.351</td><td>0</td><td>0</td><td>2.833521e-05</td><td>2.636368e-05</td><td>-89.0</td><td>0.730</td><td>0.1958</td><td>0.452</td><td>0.1133</td><td>0.0002046743</td><td>5.491983e-05</td><td>0.0001268745</td><td>3.180012e-05</td><td>-18.4</td><td>3.5768722370e-02</td><td>1.5379015370e-02</td><td>-7.6515311048e-03</td><td>0.574</td><td>0.548</td><td>629.93</td><td>150.1085</td><td>27.823418</td></tr>\n",
       "<tr><td>3669</td><td>0</td><td>1349.198</td><td>2992.668</td><td>2.1726180192e+02</td><td>1.5989050378e+01</td><td>1349</td><td>2993</td><td>30.2</td><td>15.9890452</td><td>4.9992717193e-01</td><td>4.5168815976e-01</td><td>1.2350089568e-02</td><td>0.0001987397</td><td>0.0001880702</td><td>-9.0294</td><td>0.0381</td><td>-9.0240</td><td>0.0390</td><td>-9.1252</td><td>0.0438</td><td>-8.0382 ..  -9.0887</td><td>0.0447 ..   0.0651</td><td>-9.0747</td><td>0.0656</td><td>-9.0240</td><td>0.0390</td><td>-4.0516</td><td>-7.1057</td><td>1311.011</td><td>42.62583</td><td>217.2617892</td><td>13.6</td><td>-76.85</td><td>1.130</td><td>1.495517e-06</td><td>1.731651e-06</td><td>19</td><td>16</td><td>14</td><td>11</td><td>7</td><td>6</td><td>3</td><td>2</td><td>2.19</td><td>2.50</td><td>4.62</td><td>0.43</td><td>4069.963</td><td>146.1293</td><td>4069.963</td><td>146.1293</td><td>4090.453</td><td>143.3382</td><td>1641.714 ..     4320.163</td><td>67.5742 ..     258.8881</td><td>1349.242</td><td>2992.649</td><td>1.2627686357e+00</td><td>1.0631121646e+00</td><td>1.0036056951e-01</td><td>22.6</td><td>0.0203</td><td>0.0202</td><td>-13.1</td><td>4.1143877142e-04</td><td>4.1013433214e-04</td><td>1.1465648627e-06</td><td>0.759 ..      2.665</td><td>2</td><td>20</td><td>5.687514e-06</td><td>5.682804e-06</td><td>-28.6</td><td>1.142</td><td>0.0529</td><td>1.011</td><td>0.0438</td><td>0.0003200676</td><td>1.481833e-05</td><td>0.0002837698</td><td>1.229285e-05</td><td>25.4</td><td>2.6345776193e-03</td><td>2.0781525143e-03</td><td>3.4015252068e-04</td><td>0.709</td><td>0.670</td><td>4264.755</td><td>257.681</td><td>27.827106</td></tr>\n",
       "<tr><td>3670</td><td>0</td><td>480.257</td><td>3026.587</td><td>2.1700821869e+02</td><td>1.5980538406e+01</td><td>480</td><td>3027</td><td>-59.2</td><td>15.9805149</td><td>5.7886289965e-01</td><td>6.1019401366e-01</td><td>1.6653773775e-02</td><td>0.0002204108</td><td>0.0002122875</td><td>-8.6307</td><td>0.0540</td><td>-8.6212</td><td>0.0556</td><td>-8.8117</td><td>0.0659</td><td>-7.4545 ..  -8.7505</td><td>0.0691 ..   0.0869</td><td>-8.7453</td><td>0.1027</td><td>-8.6212</td><td>0.0556</td><td>-4.0517</td><td>-6.3875</td><td>1315.907</td><td>41.89695</td><td>217.0082462</td><td>66.6</td><td>-21.92</td><td>1.175</td><td>1.416806e-06</td><td>1.810363e-06</td><td>18</td><td>18</td><td>12</td><td>10</td><td>8</td><td>7</td><td>4</td><td>4</td><td>2.52</td><td>2.50</td><td>5.28</td><td>0.20</td><td>2808.468</td><td>143.6786</td><td>2808.468</td><td>143.6786</td><td>2833.177</td><td>140.9358</td><td>958.993 ..     3163.677</td><td>61.0404 ..      253.008</td><td>480.162</td><td>3026.504</td><td>1.1833870985e+00</td><td>1.3657640267e+00</td><td>1.8268373761e-01</td><td>58.3</td><td>0.0333</td><td>0.0332</td><td>-68.1</td><td>1.1049152686e-03</td><td>1.1082441067e-03</td><td>-3.0670787409e-06</td><td>0.843 ..      2.865</td><td>2</td><td>15</td><td>9.358972e-06</td><td>9.312046e-06</td><td>57.3</td><td>1.216</td><td>0.0811</td><td>1.035</td><td>0.0649</td><td>0.0003410202</td><td>2.274565e-05</td><td>0.0002906106</td><td>1.821759e-05</td><td>60.3</td><td>4.7891089193e-03</td><td>5.9949305356e-03</td><td>1.0218168574e-03</td><td>0.786</td><td>0.756</td><td>3148.517</td><td>297.799</td><td>27.822645</td></tr>\n",
       "<tr><td>3671</td><td>0</td><td>438.992</td><td>3038.134</td><td>2.1699621435e+02</td><td>1.5977296508e+01</td><td>439</td><td>3038</td><td>25.7</td><td>15.9773136</td><td>7.7328533035e-01</td><td>7.8177881138e-01</td><td>-7.5047803371e-03</td><td>0.0002490644</td><td>0.0002458616</td><td>-9.0859</td><td>0.0409</td><td>-9.1474</td><td>0.0432</td><td>-9.2266</td><td>0.0488</td><td>-7.7208 ..  -9.2170</td><td>0.0579 ..   0.0570</td><td>-9.3546</td><td>0.0749</td><td>-9.1474</td><td>0.0432</td><td>-4.0339</td><td>-6.8008</td><td>1317.021</td><td>41.98452</td><td>216.9961863</td><td>-59.8</td><td>31.24</td><td>1.025</td><td>2.20392e-06</td><td>2.361342e-06</td><td>28</td><td>21</td><td>17</td><td>12</td><td>9</td><td>8</td><td>4</td><td>1</td><td>2.74</td><td>2.69</td><td>5.94</td><td>0.02</td><td>4559.762</td><td>181.2195</td><td>4559.762</td><td>181.2195</td><td>4308.801</td><td>162.4483</td><td>1225.493 ..      4862.01</td><td>65.30345 ..     255.2488</td><td>439.089</td><td>3038.195</td><td>1.5606822514e+00</td><td>1.6401189355e+00</td><td>-3.6946528436e-03</td><td>-87.3</td><td>0.0283</td><td>0.0282</td><td>58.8</td><td>7.9751264753e-04</td><td>7.9493136342e-04</td><td>1.6213178333e-06</td><td>0.945 ..      3.459</td><td>2</td><td>24</td><td>7.923373e-06</td><td>7.914764e-06</td><td>-7.2</td><td>1.281</td><td>0.0622</td><td>1.249</td><td>0.0595</td><td>0.0003595768</td><td>1.744968e-05</td><td>0.0003504417</td><td>1.66874e-05</td><td>77.7</td><td>3.5496666568e-03</td><td>3.8518509101e-03</td><td>6.9061212639e-05</td><td>0.887</td><td>0.877</td><td>5518.571</td><td>380.4832</td><td>27.822363</td></tr>\n",
       "<tr><td>3672</td><td>0</td><td>1200.923</td><td>2973.869</td><td>2.1721859432e+02</td><td>1.5994474845e+01</td><td>1201</td><td>2974</td><td>-63.2</td><td>15.9945088</td><td>4.6180383224e-01</td><td>5.2668444271e-01</td><td>-1.0539288851e-01</td><td>0.0002183673</td><td>0.0001735725</td><td>-6.7242</td><td>0.1707</td><td>-6.7242</td><td>0.1707</td><td>-7.2693</td><td>0.2079</td><td>-5.8372 ..  -6.9528</td><td>0.2663 ..   0.4545</td><td>-7.0798</td><td>0.2780</td><td>-6.7242</td><td>0.1707</td><td>-4.0463</td><td>-4.8670</td><td>1312.255</td><td>42.37002</td><td>217.2185822</td><td>-53.6</td><td>36.56</td><td>1.677</td><td>5.509799e-07</td><td>5.509799e-07</td><td>7</td><td>6</td><td>6</td><td>6</td><td>4</td><td>3</td><td>3</td><td>2</td><td>4.05</td><td>2.50</td><td>5.28</td><td>0.00</td><td>489.3994</td><td>76.93464</td><td>489.3994</td><td>76.93464</td><td>489.3994</td><td>76.93464</td><td>216.2127 ..     604.0984</td><td>53.01835 ..     252.7975</td><td>1200.965</td><td>2973.990</td><td>5.2971578939e-01</td><td>5.3752872920e-01</td><td>-2.5352386331e-01</td><td>-45.4</td><td>0.1110</td><td>0.1101</td><td>53.4</td><td>1.2166436645e-02</td><td>1.2286774291e-02</td><td>-8.1456611196e-05</td><td>0.684 ..      1.641</td><td>0</td><td>0</td><td>3.118279e-05</td><td>3.085466e-05</td><td>62.1</td><td>0.887</td><td>0.1990</td><td>0.529</td><td>0.1152</td><td>0.0002491066</td><td>5.587126e-05</td><td>0.0001482364</td><td>3.227017e-05</td><td>-45.0</td><td>2.6453803700e-02</td><td>2.6419403872e-02</td><td>-1.3164182300e-02</td><td>0.778</td><td>0.620</td><td>679.0667</td><td>173.8118</td><td>27.827667</td></tr>\n",
       "<tr><td>3673</td><td>0</td><td>1900.714</td><td>2959.848</td><td>2.1742267631e+02</td><td>1.5997509267e+01</td><td>1901</td><td>2960</td><td>14.8</td><td>15.9974985</td><td>4.5932568139e-01</td><td>3.8612735148e-01</td><td>7.2142228876e-02</td><td>0.0001987712</td><td>0.0001641378</td><td>-6.7399</td><td>0.1625</td><td>-6.8668</td><td>0.1560</td><td>-7.1526</td><td>0.2036</td><td>-6.0360 ..  -6.7282</td><td>0.2293 ..   0.5789</td><td>-6.6487</td><td>0.5401</td><td>-6.8668</td><td>0.1560</td><td>-4.0414</td><td>-5.0627</td><td>1311.327</td><td>43.96854</td><td>217.4226542</td><td>31.6</td><td>-58.19</td><td>1.331</td><td>4.722685e-07</td><td>4.722685e-07</td><td>6</td><td>6</td><td>6</td><td>6</td><td>5</td><td>2</td><td>2</td><td>2</td><td>3.23</td><td>2.50</td><td>6.60</td><td>0.03</td><td>558.0887</td><td>80.1562</td><td>558.0887</td><td>80.1562</td><td>496.5345</td><td>74.28085</td><td>259.6469 ..     491.2279</td><td>54.82244 ..     261.8692</td><td>1900.790</td><td>2959.809</td><td>4.3497144686e-01</td><td>4.2454665016e-01</td><td>1.1960471761e-01</td><td>43.8</td><td>0.0984</td><td>0.0974</td><td>-31.8</td><td>9.6633230034e-03</td><td>9.5040439447e-03</td><td>4.5268400738e-05</td><td>0.690 ..      1.647</td><td>0</td><td>0</td><td>2.754936e-05</td><td>2.735004e-05</td><td>-9.9</td><td>0.741</td><td>0.1594</td><td>0.557</td><td>0.1176</td><td>0.0002076316</td><td>4.464085e-05</td><td>0.0001563481</td><td>3.302552e-05</td><td>44.8</td><td>1.9652602964e-02</td><td>1.9579179721e-02</td><td>5.7833329226e-03</td><td>0.710</td><td>0.585</td><td>456.535</td><td>227.0471</td><td>27.843845</td></tr>\n",
       "<tr><td>3674</td><td>0</td><td>871.156</td><td>2991.505</td><td>2.1712236874e+02</td><td>1.5989970172e+01</td><td>871</td><td>2992</td><td>85.1</td><td>15.9899501</td><td>4.9720379341e-01</td><td>4.8758384034e-01</td><td>2.1765163686e-03</td><td>0.0001977864</td><td>0.0001959698</td><td>-12.2929</td><td>0.0045</td><td>-12.2527</td><td>0.0039</td><td>-12.3024</td><td>0.0046</td><td>-11.2074 .. -12.2917</td><td>0.0071 ..   0.0045</td><td>-12.2947</td><td>0.0046</td><td>-12.2527</td><td>0.0039</td><td>-4.0436</td><td>-10.2012</td><td>1313.713</td><td>42.29378</td><td>217.1223588</td><td>12.2</td><td>-81.75</td><td>1.012</td><td>4.958819e-06</td><td>5.982068e-06</td><td>63</td><td>50</td><td>37</td><td>29</td><td>19</td><td>14</td><td>8</td><td>4</td><td>2.00</td><td>2.50</td><td>3.96</td><td>0.98</td><td>79630.47</td><td>286.2123</td><td>79630.47</td><td>286.2123</td><td>82632.88</td><td>340.4197</td><td>30407.3 ..     82544.04</td><td>197.4957 ..     343.8496</td><td>871.190</td><td>2991.433</td><td>1.8141462940e+00</td><td>1.7979999553e+00</td><td>-1.9700869937e-02</td><td>-33.9</td><td>0.0024</td><td>0.0024</td><td>-8.2</td><td>5.5529471103e-06</td><td>5.7751211695e-06</td><td>1.9021598322e-08</td><td>0.778 ..      3.250</td><td>2</td><td>63</td><td>6.745829e-07</td><td>6.60849e-07</td><td>-88.2</td><td>1.352</td><td>0.0084</td><td>1.336</td><td>0.0082</td><td>0.000379559</td><td>2.351123e-06</td><td>0.0003745568</td><td>2.304393e-06</td><td>-52.0</td><td>6.8537264998e-05</td><td>6.9134038145e-05</td><td>-1.2020153741e-06</td><td>0.705</td><td>0.698</td><td>82773.5</td><td>353.2516</td><td>27.826073</td></tr>\n",
       "<tr><td>3675</td><td>3</td><td>1023.866</td><td>3017.437</td><td>2.1716687006e+02</td><td>1.5982508284e+01</td><td>1024</td><td>3017</td><td>-55.3</td><td>15.9824947</td><td>7.2083494020e-01</td><td>7.9105130729e-01</td><td>-5.0721378004e-02</td><td>0.0002539709</td><td>0.0002334704</td><td>-8.7654</td><td>0.0509</td><td>-8.7722</td><td>0.0532</td><td>-8.9470</td><td>0.0620</td><td>-7.4321 ..  -9.0274</td><td>0.0707 ..   0.0676</td><td>-9.1539</td><td>0.0871</td><td>-8.9470</td><td>0.0620</td><td>-4.0783</td><td>-6.3053</td><td>1311.421</td><td>42.02868</td><td>217.1668593</td><td>-62.3</td><td>27.96</td><td>1.236</td><td>1.731651e-06</td><td>2.046497e-06</td><td>22</td><td>19</td><td>16</td><td>12</td><td>9</td><td>7</td><td>5</td><td>3</td><td>3.73</td><td>2.56</td><td>5.94</td><td>0.01</td><td>3791.384</td><td>216.5886</td><td>3227.564</td><td>157.961</td><td>3207.528</td><td>150.2645</td><td>939.3902 ..     4082.899</td><td>61.14021 ..     254.3319</td><td>1023.903</td><td>3017.389</td><td>1.2382394949e+00</td><td>1.8311604932e+00</td><td>-1.2183333173e-01</td><td>-78.8</td><td>0.0360</td><td>0.0358</td><td>62.0</td><td>1.2849502077e-03</td><td>1.2896658597e-03</td><td>-6.2798325948e-06</td><td>0.930 ..      3.033</td><td>2</td><td>22</td><td>1.010307e-05</td><td>1.002847e-05</td><td>56.0</td><td>1.362</td><td>0.0814</td><td>1.102</td><td>0.0642</td><td>0.0003824896</td><td>2.284805e-05</td><td>0.0003087887</td><td>1.798708e-05</td><td>-84.8</td><td>4.1383206015e-03</td><td>6.6020195367e-03</td><td>-2.2747061376e-04</td><td>0.904</td><td>0.833</td><td>4587.294</td><td>367.7406</td><td>27.82908</td></tr>\n",
       "<tr><td>3676</td><td>0</td><td>1179.159</td><td>3018.957</td><td>2.1721207826e+02</td><td>1.5981892510e+01</td><td>1180</td><td>3019</td><td>75.9</td><td>15.9818811</td><td>9.9507435525e-01</td><td>1.2667342814e+00</td><td>1.6175461849e-01</td><td>0.0003247973</td><td>0.0002692479</td><td>-7.3859</td><td>0.1214</td><td>-7.8800</td><td>0.1386</td><td>-7.8515</td><td>0.1509</td><td>-5.8273 ..  -8.0759</td><td>0.2768 ..   0.1618</td><td>-8.2315</td><td>0.1788</td><td>-7.8800</td><td>0.1386</td><td>-4.0774</td><td>-5.2412</td><td>1310.863</td><td>42.25343</td><td>217.2121498</td><td>65.0</td><td>-24.44</td><td>1.588</td><td>7.084028e-07</td><td>9.44537e-07</td><td>7</td><td>7</td><td>7</td><td>6</td><td>6</td><td>4</td><td>4</td><td>3</td><td>5.32</td><td>3.56</td><td>6.60</td><td>0.04</td><td>1419.085</td><td>181.0634</td><td>1419.085</td><td>181.0634</td><td>900.2398</td><td>100.6331</td><td>214.2556 ..     1699.714</td><td>54.61708 ..     253.2822</td><td>1178.913</td><td>3018.917</td><td>8.0612094546e-01</td><td>1.3013292107e+00</td><td>3.8236517990e-01</td><td>61.5</td><td>0.1215</td><td>0.1210</td><td>-65.6</td><td>1.4656128957e-02</td><td>1.4764826594e-02</td><td>2.9161487289e-05</td><td>1.274 ..      4.035</td><td>2</td><td>6</td><td>3.410456e-05</td><td>3.394318e-05</td><td>89.4</td><td>1.229</td><td>0.1866</td><td>0.773</td><td>0.1118</td><td>0.0003443484</td><td>5.229758e-05</td><td>0.0002173663</td><td>3.141866e-05</td><td>61.2</td><td>1.7673829008e-02</td><td>2.9631894207e-02</td><td>9.4240517764e-03</td><td>1.159</td><td>0.959</td><td>1961.532</td><td>322.9964</td><td>27.8279</td></tr>\n",
       "<tr><td>3677</td><td>0</td><td>1662.327</td><td>3030.111</td><td>2.1735296976e+02</td><td>1.5978082454e+01</td><td>1662</td><td>3030</td><td>60.1</td><td>15.9781198</td><td>5.3105649862e-01</td><td>5.8383334448e-01</td><td>-1.5526484766e-02</td><td>0.0002153152</td><td>0.0002033029</td><td>-7.5225</td><td>0.1086</td><td>-7.7532</td><td>0.1275</td><td>-7.8901</td><td>0.1367</td><td>-6.6035 ..  -7.9357</td><td>0.1379 ..   0.1860</td><td>-7.9354</td><td>0.2174</td><td>-7.7532</td><td>0.1275</td><td>-4.0387</td><td>-5.8846</td><td>1310.831</td><td>42.66018</td><td>217.3530129</td><td>-74.8</td><td>16.20</td><td>1.194</td><td>7.871142e-07</td><td>9.44537e-07</td><td>10</td><td>8</td><td>7</td><td>5</td><td>2</td><td>2</td><td>1</td><td>1</td><td>2.56</td><td>3.22</td><td>6.60</td><td>0.54</td><td>1262.682</td><td>148.207</td><td>1262.682</td><td>148.207</td><td>1020.894</td><td>102.1292</td><td>437.9241 ..     1493.692</td><td>55.60824 ..     255.8242</td><td>1662.180</td><td>3030.245</td><td>7.5889562155e-01</td><td>8.6272534715e-01</td><td>-1.3242078747e-01</td><td>-55.7</td><td>0.0746</td><td>0.0744</td><td>73.8</td><td>5.5481008954e-03</td><td>5.5591019851e-03</td><td>9.4166956312e-06</td><td>0.766 ..      3.179</td><td>2</td><td>8</td><td>2.092381e-05</td><td>2.087486e-05</td><td>82.4</td><td>0.976</td><td>0.1272</td><td>0.818</td><td>0.1022</td><td>0.0002741546</td><td>3.57211e-05</td><td>0.0002289363</td><td>2.861356e-05</td><td>-54.8</td><td>1.2348910210e-02</td><td>1.4276510853e-02</td><td>-2.7003988950e-03</td><td>0.767</td><td>0.726</td><td>1493.354</td><td>298.8986</td><td>27.834106</td></tr>\n",
       "</table>"
      ],
      "text/plain": [
       "<Table length=3677>\n",
       "  NUMBER   FLAGS XWIN_IMAGE YWIN_IMAGE ...  FLUX_PETRO  FLUXERR_PETRO ZEROPOINT\n",
       "                    pix        pix     ...      ct            ct               \n",
       "  int32    int16  float64    float64   ...   float32       float32     float32 \n",
       "---------- ----- ---------- ---------- ... ------------ ------------- ---------\n",
       "         1    28   2043.074    214.094 ... 1.010962e+07      2991.671 27.846247\n",
       "         2     4     65.380    121.919 ...      1643842      1118.459 27.824438\n",
       "         3     0    983.166     38.558 ...     34078.66      806.3724 27.827711\n",
       "         4    24    347.435     11.880 ...     97637.42      1273.242 27.829847\n",
       "         5     0   1419.644     16.543 ...     208834.9      453.9077 27.834558\n",
       "         6     0    514.564     10.706 ...     1151.076      148.5741 27.824036\n",
       "         7    16    681.212      6.826 ...     31196.84       314.963  27.82548\n",
       "         8    17   1702.202      3.995 ...     1736.771       275.431  27.84032\n",
       "         9    16   1462.955      4.041 ...     74.95251      205.9214 27.834024\n",
       "       ...   ...        ...        ... ...          ...           ...       ...\n",
       "      3668     0    633.149   3001.570 ...       629.93      150.1085 27.823418\n",
       "      3669     0   1349.198   2992.668 ...     4264.755       257.681 27.827106\n",
       "      3670     0    480.257   3026.587 ...     3148.517       297.799 27.822645\n",
       "      3671     0    438.992   3038.134 ...     5518.571      380.4832 27.822363\n",
       "      3672     0   1200.923   2973.869 ...     679.0667      173.8118 27.827667\n",
       "      3673     0   1900.714   2959.848 ...      456.535      227.0471 27.843845\n",
       "      3674     0    871.156   2991.505 ...      82773.5      353.2516 27.826073\n",
       "      3675     3   1023.866   3017.437 ...     4587.294      367.7406  27.82908\n",
       "      3676     0   1179.159   3018.957 ...     1961.532      322.9964   27.8279\n",
       "      3677     0   1662.327   3030.111 ...     1493.354      298.8986 27.834106"
      ]
     },
     "execution_count": 103,
     "metadata": {},
     "output_type": "execute_result"
    }
   ],
   "source": [
    "catalog_filename = 'data/PTF_201307021787_c_p_scie_t041723_u016616794_f02_p003486_c11.ctlg.gz'\n",
    "catalog_table = astropy.table.Table.read(catalog_filename)\n",
    "catalog_table"
   ]
  },
  {
   "cell_type": "markdown",
   "metadata": {},
   "source": [
    "Now, let's create a coordinates object to represent the target that we are searching for:"
   ]
  },
  {
   "cell_type": "code",
   "execution_count": 104,
   "metadata": {},
   "outputs": [
    {
     "data": {
      "text/plain": [
       "<SkyCoord (ICRS): (ra, dec) in deg\n",
       "    (217.3115875, 15.77399583)>"
      ]
     },
     "execution_count": 104,
     "metadata": {},
     "output_type": "execute_result"
    }
   ],
   "source": [
    "target_coord = astropy.coordinates.SkyCoord(\n",
    "    '14h29m14.781s +15d46m26.385s')\n",
    "target_coord"
   ]
  },
  {
   "cell_type": "markdown",
   "metadata": {},
   "source": [
    "Now, let's match this position against the source catalog:"
   ]
  },
  {
   "cell_type": "code",
   "execution_count": 105,
   "metadata": {},
   "outputs": [
    {
     "data": {
      "text/plain": [
       "(array(3259), <Angle [4.20500043e-06] deg>)"
      ]
     },
     "execution_count": 105,
     "metadata": {},
     "output_type": "execute_result"
    }
   ],
   "source": [
    "# Coordinates of objects in catalog\n",
    "catalog_coords = astropy.coordinates.SkyCoord(\n",
    "    ra=catalog_table['ALPHAWIN_J2000'],\n",
    "    dec=catalog_table['DELTAWIN_J2000'])\n",
    "\n",
    "# Do source matching\n",
    "index, separation, distance = target_coord.match_to_catalog_sky(catalog_coords)\n",
    "index, separation"
   ]
  },
  {
   "cell_type": "markdown",
   "metadata": {},
   "source": [
    "Here is the closest-matching row:"
   ]
  },
  {
   "cell_type": "code",
   "execution_count": 106,
   "metadata": {},
   "outputs": [],
   "source": [
    "index = np.asscalar(index)\n",
    "matching_row = catalog_table[index]"
   ]
  },
  {
   "cell_type": "code",
   "execution_count": 107,
   "metadata": {},
   "outputs": [
    {
     "data": {
      "application/vnd.jupyter.widget-view+json": {
       "model_id": "d767a9d2cd8243a4ba25674c9dd5f039",
       "version_major": 2,
       "version_minor": 0
      },
      "text/plain": [
       "Canvas(toolbar=Toolbar(toolitems=[('Home', 'Reset original view', 'home', 'home'), ('Back', 'Back to previous …"
      ]
     },
     "metadata": {},
     "output_type": "display_data"
    },
    {
     "data": {
      "text/plain": [
       "Text(0, 0.5, 'pixel $y$')"
      ]
     },
     "execution_count": 107,
     "metadata": {},
     "output_type": "execute_result"
    }
   ],
   "source": [
    "plt.figure(figsize=(10, 10))\n",
    "plt.imshow(hdu.data, vmin=mean-std, vmax=mean+3*std, cmap='binary', interpolation='nearest')\n",
    "plt.xlim(matching_row['XWIN_IMAGE'] - 64, matching_row['XWIN_IMAGE'] + 64)\n",
    "plt.ylim(matching_row['YWIN_IMAGE'] - 64, matching_row['YWIN_IMAGE'] + 64)\n",
    "\n",
    "# I happen to know that these images are upside down; use APLPy or the like to\n",
    "# automatically orient North upward\n",
    "plt.gca().invert_yaxis()\n",
    "\n",
    "plt.xlabel('pixel $x$')\n",
    "plt.ylabel('pixel $y$')"
   ]
  },
  {
   "cell_type": "markdown",
   "metadata": {},
   "source": [
    "Let's calibrate the Sextractor photometry. We'll query the [PTF photometric calibrator catalog](http://irsa.ipac.caltech.edu/cgi-bin/Gator/nph-scan?projshort=Contributed_Data_Sets) at [IRSA](http://irsa.ipac.caltech.edu/) using [Astroquery](http://astroquery.readthedocs.org/)..."
   ]
  },
  {
   "cell_type": "code",
   "execution_count": 111,
   "metadata": {},
   "outputs": [
    {
     "data": {
      "text/html": [
       "<i>Table masked=True length=19</i>\n",
       "<table id=\"table73639221456\" class=\"table-striped table-bordered table-condensed\">\n",
       "<thead><tr><th>ra</th><th>dec</th><th>clon</th><th>clat</th><th>np</th><th>nt</th><th>bstrms</th><th>rptf</th><th>rerr</th><th>rmerr</th><th>rperr</th><th>mutype</th><th>errmu</th><th>ptffield</th><th>ci</th><th>flag</th><th>dist</th><th>angle</th></tr></thead>\n",
       "<thead><tr><th>deg</th><th>deg</th><th></th><th></th><th></th><th></th><th></th><th>mag</th><th>mag</th><th>mag</th><th>mag</th><th></th><th></th><th></th><th></th><th></th><th>arcsec</th><th>deg</th></tr></thead>\n",
       "<thead><tr><th>float64</th><th>float64</th><th>object</th><th>object</th><th>int64</th><th>int64</th><th>float64</th><th>float64</th><th>float64</th><th>float64</th><th>float64</th><th>float64</th><th>float64</th><th>int64</th><th>int64</th><th>int64</th><th>float64</th><th>float64</th></tr></thead>\n",
       "<tr><td>217.310789</td><td>15.772086</td><td>14h29m14.59s</td><td>15d46m19.51s</td><td>9</td><td>5</td><td>0.02</td><td>18.051</td><td>0.032</td><td>0.022</td><td>0.042</td><td>-0.93</td><td>0.116</td><td>3486</td><td>11</td><td>1</td><td>7.428213</td><td>201.936592</td></tr>\n",
       "<tr><td>217.298347</td><td>15.759781</td><td>14h29m11.60s</td><td>15d45m35.21s</td><td>9</td><td>5</td><td>0.02</td><td>15.742</td><td>0.011</td><td>0.016</td><td>0.006</td><td>-0.008</td><td>0.109</td><td>3486</td><td>11</td><td>1</td><td>68.740981</td><td>221.872219</td></tr>\n",
       "<tr><td>217.325504</td><td>15.788647</td><td>14h29m18.12s</td><td>15d47m19.13s</td><td>9</td><td>5</td><td>0.02</td><td>15.209</td><td>0.007</td><td>0.007</td><td>0.007</td><td>-0.003</td><td>0.059</td><td>3486</td><td>11</td><td>1</td><td>71.441115</td><td>42.43006</td></tr>\n",
       "<tr><td>217.290852</td><td>15.770452</td><td>14h29m09.80s</td><td>15d46m13.63s</td><td>9</td><td>5</td><td>0.02</td><td>17.942</td><td>0.023</td><td>0.035</td><td>0.01</td><td>-0.399</td><td>0.077</td><td>3486</td><td>11</td><td>1</td><td>72.972506</td><td>259.922078</td></tr>\n",
       "<tr><td>217.316083</td><td>15.752775</td><td>14h29m15.86s</td><td>15d45m09.99s</td><td>9</td><td>5</td><td>0.02</td><td>16.188</td><td>0.01</td><td>0.006</td><td>0.015</td><td>0.038</td><td>0.085</td><td>3486</td><td>11</td><td>1</td><td>77.979509</td><td>168.484482</td></tr>\n",
       "<tr><td>217.293844</td><td>15.788367</td><td>14h29m10.52s</td><td>15d47m18.12s</td><td>9</td><td>5</td><td>0.02</td><td>18.102</td><td>0.044</td><td>0.05</td><td>0.038</td><td>-1.159</td><td>0.09</td><td>3486</td><td>11</td><td>1</td><td>80.340374</td><td>310.076374</td></tr>\n",
       "<tr><td>217.341936</td><td>15.781173</td><td>14h29m22.06s</td><td>15d46m52.22s</td><td>9</td><td>5</td><td>0.02</td><td>18.722</td><td>0.031</td><td>0.024</td><td>0.039</td><td>-0.029</td><td>0.107</td><td>3486</td><td>11</td><td>1</td><td>108.254667</td><td>76.195635</td></tr>\n",
       "<tr><td>217.298534</td><td>15.802011</td><td>14h29m11.65s</td><td>15d48m07.24s</td><td>9</td><td>5</td><td>0.02</td><td>16.728</td><td>0.016</td><td>0.001</td><td>0.032</td><td>0.01</td><td>0.094</td><td>3486</td><td>11</td><td>1</td><td>110.518047</td><td>335.844641</td></tr>\n",
       "<tr><td>217.280035</td><td>15.768564</td><td>14h29m07.21s</td><td>15d46m06.83s</td><td>8</td><td>5</td><td>0.02</td><td>18.581</td><td>0.028</td><td>0.013</td><td>0.043</td><td>0.018</td><td>0.089</td><td>3486</td><td>11</td><td>1</td><td>111.05929</td><td>259.855291</td></tr>\n",
       "<tr><td>217.279193</td><td>15.755032</td><td>14h29m07.01s</td><td>15d45m18.12s</td><td>9</td><td>5</td><td>0.02</td><td>18.2</td><td>0.023</td><td>0.006</td><td>0.04</td><td>-0.357</td><td>0.082</td><td>3486</td><td>11</td><td>1</td><td>131.381738</td><td>238.689357</td></tr>\n",
       "<tr><td>217.293286</td><td>15.806913</td><td>14h29m10.39s</td><td>15d48m24.89s</td><td>9</td><td>5</td><td>0.02</td><td>14.598</td><td>0.008</td><td>0.003</td><td>0.013</td><td>-0.043</td><td>0.093</td><td>3486</td><td>11</td><td>1</td><td>134.386258</td><td>331.849195</td></tr>\n",
       "<tr><td>217.270767</td><td>15.767673</td><td>14h29m04.98s</td><td>15d46m03.62s</td><td>9</td><td>5</td><td>0.02</td><td>17.762</td><td>0.029</td><td>0.023</td><td>0.036</td><td>-0.553</td><td>0.093</td><td>3486</td><td>11</td><td>1</td><td>143.252977</td><td>260.8567</td></tr>\n",
       "<tr><td>217.344082</td><td>15.749366</td><td>14h29m22.58s</td><td>15d44m57.72s</td><td>9</td><td>5</td><td>0.02</td><td>18.272</td><td>0.03</td><td>0.026</td><td>0.033</td><td>-0.632</td><td>0.103</td><td>3486</td><td>11</td><td>1</td><td>143.308281</td><td>128.22579</td></tr>\n",
       "<tr><td>217.268123</td><td>15.768260</td><td>14h29m04.35s</td><td>15d46m05.74s</td><td>9</td><td>5</td><td>0.02</td><td>18.298</td><td>0.027</td><td>0.039</td><td>0.015</td><td>-0.271</td><td>0.102</td><td>3486</td><td>11</td><td>1</td><td>152.001619</td><td>262.192586</td></tr>\n",
       "<tr><td>217.278521</td><td>15.746038</td><td>14h29m06.85s</td><td>15d44m45.74s</td><td>9</td><td>5</td><td>0.02</td><td>17.751</td><td>0.021</td><td>0.027</td><td>0.015</td><td>0.05</td><td>0.087</td><td>3486</td><td>11</td><td>1</td><td>152.512542</td><td>228.702158</td></tr>\n",
       "<tr><td>217.274578</td><td>15.745016</td><td>14h29m05.90s</td><td>15d44m42.06s</td><td>9</td><td>5</td><td>0.02</td><td>18.21</td><td>0.027</td><td>0.025</td><td>0.03</td><td>0.063</td><td>0.128</td><td>3486</td><td>11</td><td>1</td><td>165.322266</td><td>230.870344</td></tr>\n",
       "<tr><td>217.295918</td><td>15.729915</td><td>14h29m11.02s</td><td>15d43m47.69s</td><td>9</td><td>5</td><td>0.02</td><td>15.487</td><td>0.011</td><td>0.003</td><td>0.018</td><td>0.001</td><td>0.1</td><td>3486</td><td>11</td><td>1</td><td>167.738282</td><td>198.890243</td></tr>\n",
       "<tr><td>217.349143</td><td>15.806507</td><td>14h29m23.79s</td><td>15d48m23.43s</td><td>9</td><td>5</td><td>0.02</td><td>17.52</td><td>0.019</td><td>0.019</td><td>0.019</td><td>0.004</td><td>0.08</td><td>3486</td><td>11</td><td>1</td><td>174.980335</td><td>48.021103</td></tr>\n",
       "<tr><td>217.322520</td><td>15.826148</td><td>14h29m17.40s</td><td>15d49m34.13s</td><td>8</td><td>4</td><td>0.02</td><td>18.759</td><td>0.037</td><td>0.018</td><td>0.056</td><td>-0.046</td><td>0.092</td><td>3486</td><td>11</td><td>1</td><td>191.512624</td><td>11.40079</td></tr>\n",
       "</table>"
      ],
      "text/plain": [
       "<Table masked=True length=19>\n",
       "    ra        dec         clon         clat     ...  flag    dist      angle   \n",
       "   deg        deg                               ...         arcsec      deg    \n",
       " float64    float64      object       object    ... int64  float64    float64  \n",
       "---------- ---------- ------------ ------------ ... ----- ---------- ----------\n",
       "217.310789  15.772086 14h29m14.59s 15d46m19.51s ...     1   7.428213 201.936592\n",
       "217.298347  15.759781 14h29m11.60s 15d45m35.21s ...     1  68.740981 221.872219\n",
       "217.325504  15.788647 14h29m18.12s 15d47m19.13s ...     1  71.441115   42.43006\n",
       "217.290852  15.770452 14h29m09.80s 15d46m13.63s ...     1  72.972506 259.922078\n",
       "217.316083  15.752775 14h29m15.86s 15d45m09.99s ...     1  77.979509 168.484482\n",
       "217.293844  15.788367 14h29m10.52s 15d47m18.12s ...     1  80.340374 310.076374\n",
       "217.341936  15.781173 14h29m22.06s 15d46m52.22s ...     1 108.254667  76.195635\n",
       "217.298534  15.802011 14h29m11.65s 15d48m07.24s ...     1 110.518047 335.844641\n",
       "217.280035  15.768564 14h29m07.21s 15d46m06.83s ...     1  111.05929 259.855291\n",
       "217.279193  15.755032 14h29m07.01s 15d45m18.12s ...     1 131.381738 238.689357\n",
       "217.293286  15.806913 14h29m10.39s 15d48m24.89s ...     1 134.386258 331.849195\n",
       "217.270767  15.767673 14h29m04.98s 15d46m03.62s ...     1 143.252977   260.8567\n",
       "217.344082  15.749366 14h29m22.58s 15d44m57.72s ...     1 143.308281  128.22579\n",
       "217.268123  15.768260 14h29m04.35s 15d46m05.74s ...     1 152.001619 262.192586\n",
       "217.278521  15.746038 14h29m06.85s 15d44m45.74s ...     1 152.512542 228.702158\n",
       "217.274578  15.745016 14h29m05.90s 15d44m42.06s ...     1 165.322266 230.870344\n",
       "217.295918  15.729915 14h29m11.02s 15d43m47.69s ...     1 167.738282 198.890243\n",
       "217.349143  15.806507 14h29m23.79s 15d48m23.43s ...     1 174.980335  48.021103\n",
       "217.322520  15.826148 14h29m17.40s 15d49m34.13s ...     1 191.512624   11.40079"
      ]
     },
     "execution_count": 111,
     "metadata": {},
     "output_type": "execute_result"
    }
   ],
   "source": [
    "from astroquery.irsa import Irsa\n",
    "\n",
    "calib_table = Irsa.query_region(\n",
    "    target_coord,\n",
    "    catalog='ptfphotcalcat',\n",
    "    radius=200*u.arcsec)\n",
    "calib_table"
   ]
  },
  {
   "cell_type": "markdown",
   "metadata": {},
   "source": [
    "Let's look at where these are in relation to are target. We'll need to convert the RA, Dec in the table to pixel coordinates. That's where the World Coordinate System (WCS) transformation comes in."
   ]
  },
  {
   "cell_type": "code",
   "execution_count": 114,
   "metadata": {},
   "outputs": [],
   "source": [
    "wcs = astropy.wcs.WCS(hdu.header)"
   ]
  },
  {
   "cell_type": "code",
   "execution_count": 116,
   "metadata": {},
   "outputs": [
    {
     "data": {
      "application/vnd.jupyter.widget-view+json": {
       "model_id": "04e2783416ba4788b1ecbb1202fbb992",
       "version_major": 2,
       "version_minor": 0
      },
      "text/plain": [
       "Canvas(toolbar=Toolbar(toolitems=[('Home', 'Reset original view', 'home', 'home'), ('Back', 'Back to previous …"
      ]
     },
     "metadata": {},
     "output_type": "display_data"
    }
   ],
   "source": [
    "plt.figure(figsize=(10, 10))\n",
    "ax = plt.axes(projection=wcs)\n",
    "ax.imshow(hdu.data, vmin=mean-std, vmax=mean+3*std, cmap='binary')\n",
    "ax.set_xlim(matching_row['XWIN_IMAGE'] - 256, matching_row['XWIN_IMAGE'] + 256)\n",
    "ax.set_ylim(matching_row['YWIN_IMAGE'] - 256, matching_row['YWIN_IMAGE'] + 256)\n",
    "\n",
    "# Note: last argument is 'origin': FITS standard uses 1-based Fortran-like\n",
    "# indexing, but Python uses 0-based C-like indexing. In this case, we are\n",
    "# aligning these locations to a Python array, so we want 0-based indexing.\n",
    "\n",
    "x, y = wcs.all_world2pix(calib_table['ra'], calib_table['dec'], 0)\n",
    "ax.scatter(x, y, facecolor='none', edgecolor='red')\n",
    "\n",
    "# I happen to know that these images are upside down; use APLPy or the like to\n",
    "# automatically orient North upward\n",
    "ax.invert_yaxis()\n",
    "\n",
    "ax.set_xlabel('pixel $x$')\n",
    "ax.set_ylabel('pixel $y$')"
   ]
  },
  {
   "cell_type": "code",
   "execution_count": 117,
   "metadata": {},
   "outputs": [
    {
     "data": {
      "application/vnd.jupyter.widget-view+json": {
       "model_id": "1a48c0ba64d941a8a611cd2f6b44f2d6",
       "version_major": 2,
       "version_minor": 0
      },
      "text/plain": [
       "Canvas(toolbar=Toolbar(toolitems=[('Home', 'Reset original view', 'home', 'home'), ('Back', 'Back to previous …"
      ]
     },
     "metadata": {},
     "output_type": "display_data"
    },
    {
     "data": {
      "text/plain": [
       "<matplotlib.collections.PathCollection at 0x1124112610>"
      ]
     },
     "execution_count": 117,
     "metadata": {},
     "output_type": "execute_result"
    }
   ],
   "source": [
    "fig = plt.figure(figsize=(10, 10))\n",
    "ax = plt.axes(projection=wcs)\n",
    "ax.set_xlim(matching_row['XWIN_IMAGE'] - 256, matching_row['XWIN_IMAGE'] + 256)\n",
    "ax.set_ylim(matching_row['YWIN_IMAGE'] - 256, matching_row['YWIN_IMAGE'] + 256)\n",
    "ax.imshow(\n",
    "    hdu.data, vmin=mean-std, vmax=mean+3*std,\n",
    "    cmap='binary')\n",
    "x, y = wcs.all_world2pix(calib_table['ra'], calib_table['dec'], 0)\n",
    "ax.scatter(x, y, facecolor='none', edgecolor='red')"
   ]
  },
  {
   "cell_type": "markdown",
   "metadata": {},
   "source": [
    "Let's now match the calibration sources with sources in the SExtractor catalog."
   ]
  },
  {
   "cell_type": "code",
   "execution_count": null,
   "metadata": {},
   "outputs": [],
   "source": [
    "calib_coords = astropy.coordinates.SkyCoord(calib_table['ra'], calib_table['dec'])\n",
    "indexes, _, _ = calib_coords.match_to_catalog_sky(catalog_coords)"
   ]
  },
  {
   "cell_type": "code",
   "execution_count": null,
   "metadata": {},
   "outputs": [],
   "source": [
    "matches = astropy.table.Table()\n",
    "matches.add_column(calib_table['rptf'])\n",
    "matches.add_column(calib_table['rerr'])\n",
    "matches.add_column(catalog_table[indexes]['MAG_AUTO'])\n",
    "matches.add_column(catalog_table[indexes]['MAGERR_AUTO'])\n",
    "matches"
   ]
  },
  {
   "cell_type": "code",
   "execution_count": null,
   "metadata": {},
   "outputs": [],
   "source": [
    "plt.figure(figsize=(8, 8))\n",
    "plt.errorbar(matches['MAG_AUTO'], matches['rptf'],\n",
    "    xerr=matches['MAGERR_AUTO'], yerr=matches['rerr'],\n",
    "    linestyle='none')\n",
    "plt.xlabel('SExtractor MAG_AUTO')\n",
    "plt.ylabel('Abs. mag. in photometric calibrator database')\n",
    "plt.gca().invert_xaxis()\n",
    "plt.gca().invert_yaxis()\n",
    "plt.grid()"
   ]
  },
  {
   "cell_type": "markdown",
   "metadata": {},
   "source": [
    "Now let's do a linear fit. Scipy's orthogonal data regression module, `scipy.odr`, is great for fitting functions with errors in both independent and dependent variables."
   ]
  },
  {
   "cell_type": "code",
   "execution_count": null,
   "metadata": {},
   "outputs": [],
   "source": [
    "data = scipy.odr.RealData(\n",
    "    x=matches['MAG_AUTO'], sx=matches['MAGERR_AUTO'],\n",
    "    y=matches['rptf'], sy=matches['rerr'])\n",
    "odr = scipy.odr.ODR(data, scipy.odr.models.unilinear)\n",
    "odr.run()\n",
    "\n",
    "odr.output.pprint()"
   ]
  },
  {
   "cell_type": "markdown",
   "metadata": {},
   "source": [
    "Let's see what the fit looks like:"
   ]
  },
  {
   "cell_type": "code",
   "execution_count": null,
   "metadata": {},
   "outputs": [],
   "source": [
    "plt.figure(figsize=(8, 8))\n",
    "plt.errorbar(matches['MAG_AUTO'], matches['rptf'],\n",
    "    xerr=matches['MAGERR_AUTO'], yerr=matches['rerr'],\n",
    "    linestyle='none')\n",
    "plt.plot(matches['MAG_AUTO'], odr.model.fcn(odr.output.beta, matches['MAG_AUTO']))\n",
    "plt.xlabel('SExtractor MAG_AUTO')\n",
    "plt.ylabel('Abs. mag. in photometric calibrator database')\n",
    "plt.gca().invert_xaxis()\n",
    "plt.gca().invert_yaxis()\n",
    "plt.grid()"
   ]
  },
  {
   "cell_type": "markdown",
   "metadata": {},
   "source": [
    "Finally, we can evaluate the magnitude of the target:"
   ]
  },
  {
   "cell_type": "code",
   "execution_count": null,
   "metadata": {},
   "outputs": [],
   "source": [
    "mag_R = odr.model.fcn(odr.output.beta, matching_row['MAG_AUTO'])\n",
    "mag_R"
   ]
  },
  {
   "cell_type": "markdown",
   "metadata": {},
   "source": [
    "Then, we propagate errors from the fit and from SExtractor's relative magnitude measurement."
   ]
  },
  {
   "cell_type": "code",
   "execution_count": null,
   "metadata": {},
   "outputs": [],
   "source": [
    "# Jacobian w.r.t. fit parameters\n",
    "fjacb = odr.model.fjacb(odr.output.beta, np.atleast_1d(matching_row['MAG_AUTO']))\n",
    "# Jacobian w.r.t. data\n",
    "fjacd = odr.model.fjacd(odr.output.beta, matching_row['MAG_AUTO'])\n",
    "\n",
    "# Uncertainty in magnitude due to fit\n",
    "var = np.dot(fjacb.T, np.dot(odr.output.cov_beta, fjacb))\n",
    "\n",
    "# Add contribution due to uncertainty in relative photometry\n",
    "var += np.dot(fjacd.T, np.dot(matching_row['MAGERR_AUTO']**2, fjacd))\n",
    "\n",
    "# Take square root -> error bar\n",
    "emag_R = np.asscalar(np.sqrt(var))\n",
    "emag_R"
   ]
  },
  {
   "cell_type": "markdown",
   "metadata": {},
   "source": [
    "So, but for color corrections, this source has a magnitude of $17.34 \\pm 0.015$."
   ]
  },
  {
   "cell_type": "markdown",
   "metadata": {},
   "source": [
    "This is the afterglow of a GRB at a redshift of $z=0.145$. What's its luminosity distance?"
   ]
  },
  {
   "cell_type": "code",
   "execution_count": null,
   "metadata": {},
   "outputs": [],
   "source": [
    "z = 0.145\n",
    "cosmo = astropy.cosmology.default_cosmology.get()\n",
    "DL = cosmo.luminosity_distance(z)\n",
    "DL"
   ]
  },
  {
   "cell_type": "markdown",
   "metadata": {},
   "source": [
    "Let's convert this to a distance modulus to find the source's absolute magnitude."
   ]
  },
  {
   "cell_type": "code",
   "execution_count": null,
   "metadata": {},
   "outputs": [],
   "source": [
    "distance_modulus = 5 * np.log10(DL / (10*u.pc))\n",
    "distance_modulus"
   ]
  },
  {
   "cell_type": "markdown",
   "metadata": {},
   "source": [
    "Another shortcut:"
   ]
  },
  {
   "cell_type": "code",
   "execution_count": null,
   "metadata": {},
   "outputs": [],
   "source": [
    "cosmo.distmod(z)"
   ]
  },
  {
   "cell_type": "markdown",
   "metadata": {},
   "source": [
    "And so the absolute magnitude is:"
   ]
  },
  {
   "cell_type": "code",
   "execution_count": null,
   "metadata": {},
   "outputs": [],
   "source": [
    "mag_R - distance_modulus"
   ]
  }
 ],
 "metadata": {
  "kernelspec": {
   "display_name": "Python 3",
   "language": "python",
   "name": "python3"
  },
  "language_info": {
   "codemirror_mode": {
    "name": "ipython",
    "version": 3
   },
   "file_extension": ".py",
   "mimetype": "text/x-python",
   "name": "python",
   "nbconvert_exporter": "python",
   "pygments_lexer": "ipython3",
   "version": "3.7.4"
  }
 },
 "nbformat": 4,
 "nbformat_minor": 4
}
